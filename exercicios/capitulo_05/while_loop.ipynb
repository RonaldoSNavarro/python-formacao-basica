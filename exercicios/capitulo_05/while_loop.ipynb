{
 "cells": [
  {
   "attachments": {},
   "cell_type": "markdown",
   "metadata": {},
   "source": [
    "- Crie um while loop que imprima números de 0 a 5\n"
   ]
  },
  {
   "cell_type": "code",
   "execution_count": 8,
   "metadata": {},
   "outputs": [],
   "source": [
    "# As vezes queremos que um loop aconteça diversas vezes enquanto uma condição for verdadeira, nesses casos usamos o while_loop.\n",
    "# É uma estrutura de controle do tipo iteração que executa determinado trecho de código enquanto a condição for verdadeira\n",
    "\n",
    "# Vamos declarar duas variáveis\n",
    "estagio_atual = 0 # contador\n",
    "estagio_final = 5"
   ]
  },
  {
   "cell_type": "code",
   "execution_count": 3,
   "metadata": {},
   "outputs": [
    {
     "name": "stdout",
     "output_type": "stream",
     "text": [
      "Você passou do estágio 0\n",
      "Você passou do estágio 1\n",
      "Você passou do estágio 2\n",
      "Você passou do estágio 3\n",
      "Você passou do estágio 4\n",
      "Você passou do estágio 5\n"
     ]
    }
   ],
   "source": [
    "while estagio_atual <= estagio_final:\n",
    "    print('Você passou do estágio', estagio_atual)\n",
    "    estagio_atual += 1"
   ]
  },
  {
   "attachments": {},
   "cell_type": "markdown",
   "metadata": {},
   "source": [
    "- Crie um while loop com else"
   ]
  },
  {
   "cell_type": "code",
   "execution_count": 7,
   "metadata": {},
   "outputs": [
    {
     "name": "stdout",
     "output_type": "stream",
     "text": [
      "Você passou do estágio 0\n",
      "Você passou do estágio 1\n",
      "Você passou do estágio 2\n",
      "Você passou do estágio 3\n",
      "Você passou do estágio 4\n",
      "Você passou do estágio 5\n",
      "Fim de jogo\n"
     ]
    }
   ],
   "source": [
    "# Também é possível utilizar o else nessa estrutura, mas é opcional\n",
    "# O usamos quando desejamos executar um trecho de código depois de todas as repetições do loop ocorrerem\n",
    "\n",
    "while estagio_atual <= estagio_final:\n",
    "    print('Você passou do estágio', estagio_atual)\n",
    "    estagio_atual += 1\n",
    "else:\n",
    "    print('Fim de jogo')"
   ]
  },
  {
   "cell_type": "code",
   "execution_count": 9,
   "metadata": {},
   "outputs": [
    {
     "name": "stdout",
     "output_type": "stream",
     "text": [
      "Você está no estágio mais fácil de todos.\n",
      "Você passou do estágio 2\n",
      "Você passou do estágio 3\n"
     ]
    }
   ],
   "source": [
    "# Assim como nas demais estruturas de controle do tipo iteração, aqui também podemos usar os recursos pass, break e continue\n",
    "\n",
    "while estagio_atual <= estagio_final:\n",
    "    estagio_atual += 1\n",
    "    if estagio_atual == 1:\n",
    "        continue\n",
    "    elif estagio_atual == 2:\n",
    "        print('Você está no estágio mais fácil de todos.')\n",
    "    elif estagio_atual == 3:\n",
    "        pass\n",
    "    elif estagio_atual == 4:\n",
    "        break\n",
    "    print('Você passou do estágio', estagio_atual)\n",
    "else:\n",
    "    print('Fim de jogo.')"
   ]
  },
  {
   "cell_type": "code",
   "execution_count": null,
   "metadata": {},
   "outputs": [],
   "source": []
  }
 ],
 "metadata": {
  "kernelspec": {
   "display_name": "Python 3",
   "language": "python",
   "name": "python3"
  },
  "language_info": {
   "codemirror_mode": {
    "name": "ipython",
    "version": 3
   },
   "file_extension": ".py",
   "mimetype": "text/x-python",
   "name": "python",
   "nbconvert_exporter": "python",
   "pygments_lexer": "ipython3",
   "version": "3.12.0"
  },
  "orig_nbformat": 4,
  "vscode": {
   "interpreter": {
    "hash": "916dbcbb3f70747c44a77c7bcd40155683ae19c65e1c03b4aa3499c5328201f1"
   }
  }
 },
 "nbformat": 4,
 "nbformat_minor": 2
}
