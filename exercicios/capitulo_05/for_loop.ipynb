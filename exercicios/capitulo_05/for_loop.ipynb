{
 "cells": [
  {
   "attachments": {},
   "cell_type": "markdown",
   "metadata": {},
   "source": [
    "- Crie uma lista\n"
   ]
  },
  {
   "cell_type": "code",
   "execution_count": 1,
   "metadata": {},
   "outputs": [],
   "source": [
    "# For loop é uma estrutura de controle do tipo iteração e usamos para executar um bloco de código repetidas vezes\n",
    "# A quantidade de vezes que este bloco será executado é determinado pelo objeto iterável que usaremos como base\n",
    "# Vamos usar essa lista como objeto iterável para ser usada nos próximos exemplos\n",
    "\n",
    "lista = [3, 9, 35, 34] "
   ]
  },
  {
   "attachments": {},
   "cell_type": "markdown",
   "metadata": {},
   "source": [
    "- Crie um for loop para imprimir na tela todos os elementos da lista\n"
   ]
  },
  {
   "cell_type": "code",
   "execution_count": 2,
   "metadata": {},
   "outputs": [
    {
     "name": "stdout",
     "output_type": "stream",
     "text": [
      "3\n",
      "9\n",
      "35\n",
      "34\n"
     ]
    }
   ],
   "source": [
    "# Para criar um for loop usamos a palavra reservada for, uma variável temporária que vamos chamar de numero, in, e o objeto iterável lista\n",
    "\n",
    "for numero in lista:\n",
    "    print(numero)\n",
    "\n",
    "# Aqui chamamos a variável temporária de número, mas poderia ser qualquer outra palavra"
   ]
  },
  {
   "cell_type": "code",
   "execution_count": 3,
   "metadata": {},
   "outputs": [],
   "source": [
    "# A estruturas de controle tem alguns recursos que nos auxiliam no seu desenvolvimento \n",
    "# Durante a criação de uma estrutura, podemos usar a palavra reservada pass\n",
    "\n",
    "for numero in lista:\n",
    "    pass\n",
    "\n",
    "# A palavra reservada pass vai nos auxiliar na construção do esboço\n",
    "# Passando ela, não é apresentado erro, no entanto "
   ]
  },
  {
   "cell_type": "code",
   "execution_count": 4,
   "metadata": {},
   "outputs": [
    {
     "ename": "SyntaxError",
     "evalue": "incomplete input (2331524528.py, line 5)",
     "output_type": "error",
     "traceback": [
      "\u001b[1;36m  Cell \u001b[1;32mIn[4], line 5\u001b[1;36m\u001b[0m\n\u001b[1;33m    \u001b[0m\n\u001b[1;37m    ^\u001b[0m\n\u001b[1;31mSyntaxError\u001b[0m\u001b[1;31m:\u001b[0m incomplete input\n"
     ]
    }
   ],
   "source": [
    "# Se criarmos apenas o for numero in lista e não passarmos nenhuma informação no bloco de código, Python vai informar que existe um erro de sintaxe\n",
    "# A palavra pass é bem útil quando estamos construindo nosso raciocinínio, mas ainda não temos exatamente a implementação completa do código\n",
    "\n",
    "for numero in lista:\n",
    "\n"
   ]
  },
  {
   "attachments": {},
   "cell_type": "markdown",
   "metadata": {},
   "source": [
    "- Crie um for loop usando o recurso \"continue\"\n"
   ]
  },
  {
   "cell_type": "code",
   "execution_count": null,
   "metadata": {},
   "outputs": [
    {
     "name": "stdout",
     "output_type": "stream",
     "text": [
      "Estamos no else.\n",
      "35\n",
      "Esse número é par.\n",
      "34\n"
     ]
    }
   ],
   "source": [
    "# Neste exemplo o continue faz com que a execução do loop reinicie, ou seja, quando o número é divisível por 3 nada abaixo do continue é executado e o loop volta para o início\n",
    "# Por isso que ainda que esse print numero esteja fora da estrutura condicional, só é executado nos números não divisíveis por 3\n",
    "\n",
    "for numero in lista:\n",
    "    if numero % 3 == 0:\n",
    "        continue\n",
    "    elif numero % 2 == 0:\n",
    "        print('Esse número é par.')\n",
    "    else:\n",
    "        print('Estamos no else.')\n",
    "    print(numero)"
   ]
  },
  {
   "attachments": {},
   "cell_type": "markdown",
   "metadata": {},
   "source": [
    "- Crie um for loop usando o recurso \"break\"\n"
   ]
  },
  {
   "cell_type": "code",
   "execution_count": null,
   "metadata": {},
   "outputs": [
    {
     "name": "stdout",
     "output_type": "stream",
     "text": [
      "Esse número é divisível por 3. 3\n"
     ]
    }
   ],
   "source": [
    "# O recurso break interrompe abruptamente o loop e faz com que a execução saia completamente da estrutura de controle\n",
    "# Por isso ainda que existam outros números na lista divisíveis por 3, na primeira vez em que a condição é cumprida todo o resto é ignorado e Python interrompe p loop\n",
    "\n",
    "for numero in lista:\n",
    "    if numero % 3 == 0:\n",
    "        print('Esse número é divisível por 3.', numero)\n",
    "        break\n",
    "    elif numero % 2 == 0:\n",
    "        print('Esse número é par.')\n",
    "    else:\n",
    "        print('Estamos no else.')\n",
    "    print(numero)"
   ]
  },
  {
   "attachments": {},
   "cell_type": "markdown",
   "metadata": {},
   "source": [
    "- Crie um for loop usando o \"else\"\n"
   ]
  },
  {
   "cell_type": "code",
   "execution_count": null,
   "metadata": {},
   "outputs": [
    {
     "name": "stdout",
     "output_type": "stream",
     "text": [
      "Esse número é divisível por 3.\n",
      "3\n",
      "Esse número é divisível por 3.\n",
      "9\n",
      "35\n",
      "Esse número é par.\n",
      "34\n",
      "Aqui acaba o loop\n"
     ]
    }
   ],
   "source": [
    "# O else no for é opcional, no entanto, serve para executar um trecho de código após a conclusão do loop \n",
    "\n",
    "for numero in lista:\n",
    "    if numero % 3 == 0:\n",
    "        print('Esse número é divisível por 3.')\n",
    "    elif numero % 2 == 0:\n",
    "        print('Esse número é par.')\n",
    "    print(numero)\n",
    "else:\n",
    "    print('Aqui acaba o loop')"
   ]
  }
 ],
 "metadata": {
  "kernelspec": {
   "display_name": "Python 3",
   "language": "python",
   "name": "python3"
  },
  "language_info": {
   "codemirror_mode": {
    "name": "ipython",
    "version": 3
   },
   "file_extension": ".py",
   "mimetype": "text/x-python",
   "name": "python",
   "nbconvert_exporter": "python",
   "pygments_lexer": "ipython3",
   "version": "3.12.0"
  },
  "orig_nbformat": 4,
  "vscode": {
   "interpreter": {
    "hash": "916dbcbb3f70747c44a77c7bcd40155683ae19c65e1c03b4aa3499c5328201f1"
   }
  }
 },
 "nbformat": 4,
 "nbformat_minor": 2
}
