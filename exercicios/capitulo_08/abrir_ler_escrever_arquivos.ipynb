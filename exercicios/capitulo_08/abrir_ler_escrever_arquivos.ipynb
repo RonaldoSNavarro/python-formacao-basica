{
 "cells": [
  {
   "attachments": {},
   "cell_type": "markdown",
   "metadata": {},
   "source": [
    "- Abra o arquivo \"dados/a_luta_carmen_dolores_trecho.txt\" em modo leitura\n"
   ]
  },
  {
   "cell_type": "code",
   "execution_count": 13,
   "metadata": {},
   "outputs": [],
   "source": [
    "# É possível abrir arquivos, ler e escreve-los usando linhas de código\n",
    "# Para abrir um arquivo usamos a função \"open\"\n",
    "# A Função open recebe dois argumentos: O caminho para o arquivo e o modo que o arquivo deve ser aberto\n",
    "# Vamos abrir o arquivo em modo leitura, representado pela letra \"r\"\n",
    "# O método open abre o arquivo mas não fecha, em códigos extensos isso pode afetar o processamento, então, temos\n",
    "# duas soluçôes: sempre ao fim do arquivo executar o método \"close\" \n",
    "# Ao utilizar \"r'\\string'\"\", você informa ao Python que a string é raw e qualquer sequência de escape nela será tratada literalmente, evitando assim o aviso de escape inválido.\n",
    "\n",
    "redacao = open(r'F:\\Dev\\Python\\Python basico linkedIn\\python-formacao-basica-3083858-main\\exercicios\\capitulo_08\\Atividade Contextualizada de Inteligência Artificial Aplicada aos Negócios - Ronaldo da Silva Navarro Matricula 03335409.txt', mode='r')\n",
    "\n",
    "redacao.close()"
   ]
  },
  {
   "attachments": {},
   "cell_type": "markdown",
   "metadata": {},
   "source": [
    "- Abra o arquivo \"dados/a_luta_carmen_dolores_trecho.txt\" em modo leitura usando a palavra reservada \"with\"\n"
   ]
  },
  {
   "attachments": {},
   "cell_type": "markdown",
   "metadata": {},
   "source": [
    "- Crie uma lista com as linhas do arquivo e imprima na tela\n"
   ]
  },
  {
   "cell_type": "code",
   "execution_count": 14,
   "metadata": {},
   "outputs": [
    {
     "name": "stdout",
     "output_type": "stream",
     "text": [
      "['TEXTO DISSERTATIVO-ARGUMENTATIVO SOBRE INTELIGÊNCIA ARTIFICIAL APLICADA AOS NEGÓCIOS\\n', 'Ronaldo da Silva Navarro\\n', 'Matrícula: 03335409\\n', 'Tecnologia em Análise e Desenvolvimento de Sistemas\\n', '\\n', 'A inteligência artificial, representada por tecnologias como Machine Learning e Deep Learning, tem desempenhado um papel cada vez mais relevante em diversos setores da indústria. Essas abordagens computacionais têm se mostrado fundamentais na evolução das empresas, permitindo que elas enfrentem os desafios do mundo conectado e otimizem suas operações de negócios.\\n', 'O Machine Learning, um dos pilares da inteligência artificial, possibilita que sistemas aprendam com dados e melhorem seu desempenho ao longo do tempo. Isso é crucial em um cenário empresarial em que o volume e a complexidade dos dados crescem exponencialmente. Com o Machine Learning, as empresas podem analisar grandes conjuntos de dados para identificar tendências, padrões e insights ocultos. Essas informações não apenas aprimoram a tomada de decisões, mas também contribuem para a eficiência operacional e a personalização de produtos e serviços.\\n', 'Por outro lado, o Deep Learning, uma subcategoria do Machine Learning, concentra-se em redes neurais profundas que imitam o funcionamento do cérebro humano. Essa abordagem é particularmente valiosa em tarefas de reconhecimento de padrões, como reconhecimento de imagens e processamento de linguagem natural. Isso abre portas para aplicações inovadoras, como veículos autônomos e assistentes de voz.\\n', 'No contexto empresarial, as aplicações de Machine Learning e Deep Learning são diversas. Desde a análise de dados para prever tendências de mercado até a automação de processos repetitivos, essas tecnologias estão moldando a maneira como as empresas operam e interagem com os clientes. O resultado final é uma melhoria na eficiência, na precisão das decisões e na capacidade de oferecer soluções personalizadas.\\n', 'Em resumo, o Machine Learning e o Deep Learning são impulsionadores cruciais da revolução da inteligência artificial aplicada no mundo dos negócios. À medida que essas tecnologias continuam a evoluir, é evidente que sua presença e impacto só tendem a crescer, fortalecendo a competitividade e a inovação em todas as indústrias.\\n', '\\n', 'Referências bibliográficas:\\n', '\\n', 'DE SOUZA, Rodrigo Menezes. Inteligência Artificial Aplicada aos Negócios. Recife-PE: Ser Educacional, 2020.\\n', '\\n', 'Última linha\\n', '\\n', 'Última linha\\n', '\\n', 'Última linha\\n', '\\n', 'Última linha\\n', '\\n', 'Última linha']\n"
     ]
    }
   ],
   "source": [
    "# A outra solução e também a mais comum é o uso da palavra reservada \"with\"\n",
    "# Vamos usar a variável temporária \"arquivo\" que vai representar o arquivo que está aberto. Assim Python vai manter o arquivo aberto apenas durante\n",
    "# a execução do bloco de código informado. Após a execução o arquivo é fechado\n",
    "# Usando o método \"readlines\" para ler as linhas do arquivo\n",
    "\n",
    "with open(r'F:\\Dev\\Python\\Python basico linkedIn\\python-formacao-basica-3083858-main\\exercicios\\capitulo_08\\Atividade Contextualizada de Inteligência Artificial Aplicada aos Negócios - Ronaldo da Silva Navarro Matricula 03335409.txt', mode='r') as arquivo:\n",
    "    linhas = arquivo.readlines()\n",
    "    print(linhas)"
   ]
  },
  {
   "attachments": {},
   "cell_type": "markdown",
   "metadata": {},
   "source": [
    "- Crie um for loop para ler cada item da lista e retirar as quebras de linha\n"
   ]
  },
  {
   "cell_type": "code",
   "execution_count": 15,
   "metadata": {},
   "outputs": [
    {
     "name": "stdout",
     "output_type": "stream",
     "text": [
      "TEXTO DISSERTATIVO-ARGUMENTATIVO SOBRE INTELIGÊNCIA ARTIFICIAL APLICADA AOS NEGÓCIOS\n",
      "Ronaldo da Silva Navarro\n",
      "Matrícula: 03335409\n",
      "Tecnologia em Análise e Desenvolvimento de Sistemas\n",
      "\n",
      "A inteligência artificial, representada por tecnologias como Machine Learning e Deep Learning, tem desempenhado um papel cada vez mais relevante em diversos setores da indústria. Essas abordagens computacionais têm se mostrado fundamentais na evolução das empresas, permitindo que elas enfrentem os desafios do mundo conectado e otimizem suas operações de negócios.\n",
      "O Machine Learning, um dos pilares da inteligência artificial, possibilita que sistemas aprendam com dados e melhorem seu desempenho ao longo do tempo. Isso é crucial em um cenário empresarial em que o volume e a complexidade dos dados crescem exponencialmente. Com o Machine Learning, as empresas podem analisar grandes conjuntos de dados para identificar tendências, padrões e insights ocultos. Essas informações não apenas aprimoram a tomada de decisões, mas também contribuem para a eficiência operacional e a personalização de produtos e serviços.\n",
      "Por outro lado, o Deep Learning, uma subcategoria do Machine Learning, concentra-se em redes neurais profundas que imitam o funcionamento do cérebro humano. Essa abordagem é particularmente valiosa em tarefas de reconhecimento de padrões, como reconhecimento de imagens e processamento de linguagem natural. Isso abre portas para aplicações inovadoras, como veículos autônomos e assistentes de voz.\n",
      "No contexto empresarial, as aplicações de Machine Learning e Deep Learning são diversas. Desde a análise de dados para prever tendências de mercado até a automação de processos repetitivos, essas tecnologias estão moldando a maneira como as empresas operam e interagem com os clientes. O resultado final é uma melhoria na eficiência, na precisão das decisões e na capacidade de oferecer soluções personalizadas.\n",
      "Em resumo, o Machine Learning e o Deep Learning são impulsionadores cruciais da revolução da inteligência artificial aplicada no mundo dos negócios. À medida que essas tecnologias continuam a evoluir, é evidente que sua presença e impacto só tendem a crescer, fortalecendo a competitividade e a inovação em todas as indústrias.\n",
      "\n",
      "Referências bibliográficas:\n",
      "\n",
      "DE SOUZA, Rodrigo Menezes. Inteligência Artificial Aplicada aos Negócios. Recife-PE: Ser Educacional, 2020.\n",
      "\n",
      "Última linha\n",
      "\n",
      "Última linha\n",
      "\n",
      "Última linha\n",
      "\n",
      "Última linha\n",
      "\n",
      "Última linha\n"
     ]
    }
   ],
   "source": [
    "# O caractere especial \"\\n\" significa uma quebra de linha\n",
    "# Podemos imprimir linha a linha desse arquivo, para isso vamos usar um for loop que passará em cada ítem da linha e imprimirá na tela\n",
    "# Usando o método \"strip\" para retirar a quebra de linha\n",
    "\n",
    "with open(r'F:\\Dev\\Python\\Python basico linkedIn\\python-formacao-basica-3083858-main\\exercicios\\capitulo_08\\Atividade Contextualizada de Inteligência Artificial Aplicada aos Negócios - Ronaldo da Silva Navarro Matricula 03335409.txt', mode='r') as arquivo:\n",
    "    linhas = arquivo.readlines()\n",
    "    for linha in linhas:\n",
    "        print(linha.strip())"
   ]
  },
  {
   "attachments": {},
   "cell_type": "markdown",
   "metadata": {},
   "source": [
    "- Abra o arquivo \"dados/a_luta_carmen_dolores_trecho.txt\" em modo append e adicione uma nova linha em seu conteúdo\n"
   ]
  },
  {
   "cell_type": "code",
   "execution_count": 16,
   "metadata": {},
   "outputs": [],
   "source": [
    "# O modo read não permite escrita dentro do arquivo, no entanto, vamos adicionar mais uma informação ao texto\n",
    "# Para isso vamos alterar o modo de abertura do arquivo para o modo \"a\" de \"append\"\n",
    "# O método \"write\" é o método de escrita\n",
    "\n",
    "with open(r'F:\\Dev\\Python\\Python basico linkedIn\\python-formacao-basica-3083858-main\\exercicios\\capitulo_08\\Atividade Contextualizada de Inteligência Artificial Aplicada aos Negócios - Ronaldo da Silva Navarro Matricula 03335409.txt', mode='a') as arquivo:\n",
    "    arquivo.write('\\n\\nÚltima linha')"
   ]
  },
  {
   "attachments": {},
   "cell_type": "markdown",
   "metadata": {},
   "source": [
    "- Copie o conteúdo do arquivo \"dados/a_luta_carmen_dolores_trecho.txt\" para um novo arquivo\n"
   ]
  },
  {
   "cell_type": "code",
   "execution_count": 17,
   "metadata": {},
   "outputs": [],
   "source": [
    "# Também podemos copiar um arquivo caso ele não exista\n",
    "# Para isso vamos usar o modo write que é representado pela letra \"w\"\n",
    "# É importante definirmos arquivos cujo o nome ainda não existe, pois o método write vai sobrescrever o arquivo existente\n",
    "# Existem formas mais eficientes de copiar o conteúdo de um arquivo, no entanto, vamos usar métodos de leitura e escrita apenas como exemplo\n",
    "# Após abrir o arquivo do qual vamos copiar o conteúdo, abrimos outro com um novo nome em modo leitura\n",
    "# Com o método \"readlines\" estamos lendo as linhas do arquivo original e o método \"writelines\" vai escrever as linhas dentro do novo arquivo\n",
    "\n",
    "redacao = open(r'F:\\Dev\\Python\\Python basico linkedIn\\python-formacao-basica-3083858-main\\exercicios\\capitulo_08\\Atividade Contextualizada de Inteligência Artificial Aplicada aos Negócios - Ronaldo da Silva Navarro Matricula 03335409.txt', mode='r')\n",
    "\n",
    "with open(r'F:\\Dev\\Python\\Python basico linkedIn\\python-formacao-basica-3083858-main\\exercicios\\capitulo_08\\copia_Atividade Contextualizada_de_Inteligência_Artificial_Aplicada_aos_Negócios_-_Ronaldo_da_Silva_Navarro_Matricula_03335409.txt', mode='w') as arquivo:\n",
    "    linhas_redacao = redacao.readlines()\n",
    "    arquivo.writelines(linhas_redacao)\n",
    "\n",
    "redacao.close()"
   ]
  }
 ],
 "metadata": {
  "kernelspec": {
   "display_name": "Python 3",
   "language": "python",
   "name": "python3"
  },
  "language_info": {
   "codemirror_mode": {
    "name": "ipython",
    "version": 3
   },
   "file_extension": ".py",
   "mimetype": "text/x-python",
   "name": "python",
   "nbconvert_exporter": "python",
   "pygments_lexer": "ipython3",
   "version": "3.12.0"
  },
  "orig_nbformat": 4,
  "vscode": {
   "interpreter": {
    "hash": "916dbcbb3f70747c44a77c7bcd40155683ae19c65e1c03b4aa3499c5328201f1"
   }
  }
 },
 "nbformat": 4,
 "nbformat_minor": 2
}
