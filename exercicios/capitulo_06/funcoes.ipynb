{
 "cells": [
  {
   "attachments": {},
   "cell_type": "markdown",
   "metadata": {},
   "source": [
    "- Crie uma função que receba como argumento 2 números e 1 operação matemática\n"
   ]
  },
  {
   "cell_type": "code",
   "execution_count": 23,
   "metadata": {},
   "outputs": [],
   "source": [
    "# Funções servem para organizar o código em objetos responsáveis por tarefas específicas\n",
    "# Para declarar uma função usamos a palavra reservada def\n",
    "\n",
    "# Vamos criar uma função que realiza uma função aritmética e que rece três argumentos\n",
    "def operacaoAritmetica(numero1, numero2, operacao):\n",
    "    if operacao == 'soma':\n",
    "        return numero1 + numero2\n",
    "    elif operacao == 'subtração':\n",
    "        pass\n",
    "    elif operacao == 'multiplicação':\n",
    "        return numero1 * numero2\n",
    "    elif operacao == 'divisão':\n",
    "        pass\n",
    "\n",
    "# Implementamos apenas duas operações para que a função não fique muito extensa"
   ]
  },
  {
   "attachments": {},
   "cell_type": "markdown",
   "metadata": {},
   "source": [
    "- Implemente as funções de soma e multiplicação, nessa função\n"
   ]
  },
  {
   "cell_type": "code",
   "execution_count": 24,
   "metadata": {},
   "outputs": [
    {
     "data": {
      "text/plain": [
       "9"
      ]
     },
     "execution_count": 24,
     "metadata": {},
     "output_type": "execute_result"
    }
   ],
   "source": [
    "# Executando a função passando argumentos\n",
    "# Passando soma como argumento para operacao\n",
    "operacaoAritmetica(6, 3, 'soma')"
   ]
  },
  {
   "cell_type": "code",
   "execution_count": 25,
   "metadata": {},
   "outputs": [
    {
     "data": {
      "text/plain": [
       "18"
      ]
     },
     "execution_count": 25,
     "metadata": {},
     "output_type": "execute_result"
    }
   ],
   "source": [
    "# Passando multiplicação como argumento para operacao\n",
    "operacaoAritmetica(6, 3, 'multiplicação')"
   ]
  },
  {
   "cell_type": "code",
   "execution_count": 26,
   "metadata": {},
   "outputs": [],
   "source": [
    "# É possível estabelecer valor padrão como argumento das funções\n",
    "# Eles serão usados caso o argumento não seja passado\n",
    "\n",
    "def operacaoAritmetica(numero1=2, numero2=4, operacao='soma'):\n",
    "    if operacao == 'soma':\n",
    "        return numero1 + numero2\n",
    "    elif operacao == 'subtração':\n",
    "        pass\n",
    "    elif operacao == 'multiplicação':\n",
    "        return numero1 * numero2\n",
    "    elif operacao == 'divisão':\n",
    "        pass"
   ]
  },
  {
   "cell_type": "code",
   "execution_count": 27,
   "metadata": {},
   "outputs": [
    {
     "data": {
      "text/plain": [
       "10"
      ]
     },
     "execution_count": 27,
     "metadata": {},
     "output_type": "execute_result"
    }
   ],
   "source": [
    "# Vamos executar novamente a função, e se não passarmos nada como operação e apenas o valor 6 no número1, será realizada a soma do número 6 com 4\n",
    "# O argumento padrão numero2 é 4 e a operação padrão é soma\n",
    "operacaoAritmetica(6)"
   ]
  },
  {
   "attachments": {},
   "cell_type": "markdown",
   "metadata": {},
   "source": [
    "- Modifique a função para que receba uma quantidade de argumentos não previsível e os imprima na tela\n"
   ]
  },
  {
   "cell_type": "code",
   "execution_count": 28,
   "metadata": {},
   "outputs": [],
   "source": [
    "# É possível criar funções que recebam um número não previamente determinado de argumento\n",
    "\n",
    "# Função criada com a quantidade de argumentos indefinidos, argumentos não nomeados\n",
    "def operacaoAritmetica2(*numeros):\n",
    "    return(numeros)"
   ]
  },
  {
   "cell_type": "code",
   "execution_count": 29,
   "metadata": {},
   "outputs": [
    {
     "data": {
      "text/plain": [
       "(6, 7, 2, 3, 4)"
      ]
     },
     "execution_count": 29,
     "metadata": {},
     "output_type": "execute_result"
    }
   ],
   "source": [
    "# Esse recurso substitui os números para o que chamamos de argumentos não nominais, ou seja, não ée necessário nomear cada argumento que vamos passar\n",
    "# Esse recurso armazena os argumentos em uma tupla \n",
    "\n",
    "operacaoAritmetica2(6,7,2,3,4)"
   ]
  },
  {
   "cell_type": "code",
   "execution_count": 30,
   "metadata": {},
   "outputs": [],
   "source": [
    "# Também temos um recurso semelhante para receber recursos não nominais\n",
    "# Chamamos isso de kwargs\n",
    "# Nesse caso Python armazena os argumentos em um dicionário\n",
    "def operacaoAritmetica2(*numeros, **kwargs):\n",
    "    return numeros, kwargs"
   ]
  },
  {
   "cell_type": "code",
   "execution_count": 31,
   "metadata": {},
   "outputs": [
    {
     "data": {
      "text/plain": [
       "((6, 7, 2, 3, 4), {'operacao': 'soma', 'pet': 'gata'})"
      ]
     },
     "execution_count": 31,
     "metadata": {},
     "output_type": "execute_result"
    }
   ],
   "source": [
    "# Os argumentos não nominais retornam dentro de uma tupla\n",
    "# Já os argumentos nominais retornam dentro de um dicionário \n",
    "operacaoAritmetica2(6,7,2,3,4, operacao='soma', pet='gata')"
   ]
  },
  {
   "attachments": {},
   "cell_type": "markdown",
   "metadata": {},
   "source": [
    "- Use a biblioteca math para otimizar a função\n"
   ]
  },
  {
   "cell_type": "code",
   "execution_count": 32,
   "metadata": {},
   "outputs": [],
   "source": [
    "# Importando a biblioteca math\n",
    "\n",
    "import math"
   ]
  },
  {
   "cell_type": "code",
   "execution_count": 33,
   "metadata": {},
   "outputs": [],
   "source": [
    "def operacaoAritmetica3(*args, **kwargs):\n",
    "    for argumento, valor in kwargs.items():\n",
    "        if argumento == 'operacao' and valor == 'soma':\n",
    "            return sum(args)\n",
    "        elif argumento == 'operacao' and valor == 'subtração':\n",
    "            pass\n",
    "        elif argumento == 'operacao' and valor == 'multiplicacao':\n",
    "            return math.prod(args)\n",
    "        elif argumento == 'operacao' and valor == 'divisao':\n",
    "            pass\n",
    "        "
   ]
  },
  {
   "cell_type": "code",
   "execution_count": 34,
   "metadata": {},
   "outputs": [
    {
     "data": {
      "text/plain": [
       "129600"
      ]
     },
     "execution_count": 34,
     "metadata": {},
     "output_type": "execute_result"
    }
   ],
   "source": [
    "operacaoAritmetica3(6,8,9,10,30, operacao='multiplicacao')"
   ]
  },
  {
   "attachments": {},
   "cell_type": "markdown",
   "metadata": {},
   "source": [
    "- Escreva uma função do tipo lambda"
   ]
  },
  {
   "cell_type": "code",
   "execution_count": 35,
   "metadata": {},
   "outputs": [],
   "source": [
    "# A função lambda é uma função escrita em uma linha, muito útil para quando você precisar escrever uma função pequena\n",
    "# Para construir a função, passamos a palavra reservada lambda\n",
    "\n",
    "soma = lambda x, y: print(x + y)"
   ]
  },
  {
   "cell_type": "code",
   "execution_count": 36,
   "metadata": {},
   "outputs": [
    {
     "name": "stdout",
     "output_type": "stream",
     "text": [
      "11\n"
     ]
    }
   ],
   "source": [
    "soma(3,8)"
   ]
  }
 ],
 "metadata": {
  "kernelspec": {
   "display_name": "Python 3",
   "language": "python",
   "name": "python3"
  },
  "language_info": {
   "codemirror_mode": {
    "name": "ipython",
    "version": 3
   },
   "file_extension": ".py",
   "mimetype": "text/x-python",
   "name": "python",
   "nbconvert_exporter": "python",
   "pygments_lexer": "ipython3",
   "version": "3.12.0"
  },
  "orig_nbformat": 4,
  "vscode": {
   "interpreter": {
    "hash": "916dbcbb3f70747c44a77c7bcd40155683ae19c65e1c03b4aa3499c5328201f1"
   }
  }
 },
 "nbformat": 4,
 "nbformat_minor": 2
}
