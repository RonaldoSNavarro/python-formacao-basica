{
 "cells": [
  {
   "attachments": {},
   "cell_type": "markdown",
   "metadata": {},
   "source": [
    "- Crie uma classe com 3 atributos\n"
   ]
  },
  {
   "cell_type": "code",
   "execution_count": 18,
   "metadata": {},
   "outputs": [],
   "source": [
    "# Costumamos agrupar funções em uma classe para cacterizar um determinado objeto\n",
    "\n",
    "# A classe Gata possui atributos de instãncia como: pata, nome e cor\n",
    "# Esses atributos são informados na função __init__, que é a função construtora dessa classe\n",
    "class Gata:\n",
    "\n",
    "    def __init__(self, nome = 'Nísia'):\n",
    "        self.patas = 4\n",
    "        self.cor = 'preta'\n",
    "        self.nome = nome\n"
   ]
  },
  {
   "attachments": {},
   "cell_type": "markdown",
   "metadata": {},
   "source": [
    "- Defina uma variável de classe\n"
   ]
  },
  {
   "cell_type": "code",
   "execution_count": 19,
   "metadata": {},
   "outputs": [],
   "source": [
    "# Instanciando um objeto da classe Gata\n",
    "\n",
    "gabriela = Gata('Gabriela')\n",
    "\n",
    "# Caso não seja passado o nome \"Gabriela\", a gata se chamará \"Nísia\""
   ]
  },
  {
   "cell_type": "code",
   "execution_count": 20,
   "metadata": {},
   "outputs": [
    {
     "data": {
      "text/plain": [
       "'preta'"
      ]
     },
     "execution_count": 20,
     "metadata": {},
     "output_type": "execute_result"
    }
   ],
   "source": [
    "# Acessando os atributos da instância gabriela\n",
    "gabriela.cor"
   ]
  },
  {
   "attachments": {},
   "cell_type": "markdown",
   "metadata": {},
   "source": [
    "- Modifique a variável de instância \"cor\"\n"
   ]
  },
  {
   "cell_type": "code",
   "execution_count": 21,
   "metadata": {},
   "outputs": [],
   "source": [
    "# É possível alterar um atributo de instância\n",
    "# Para isso basta passar a instância.atributo\n",
    "# Alterando a cor da gata para \"laranja\"\n",
    "gabriela.cor = 'laranja'"
   ]
  },
  {
   "attachments": {},
   "cell_type": "markdown",
   "metadata": {},
   "source": [
    "- Printe na tela a variável de classe \"cor\"\n"
   ]
  },
  {
   "cell_type": "code",
   "execution_count": 22,
   "metadata": {},
   "outputs": [
    {
     "data": {
      "text/plain": [
       "'laranja'"
      ]
     },
     "execution_count": 22,
     "metadata": {},
     "output_type": "execute_result"
    }
   ],
   "source": [
    "gabriela.cor"
   ]
  },
  {
   "attachments": {},
   "cell_type": "markdown",
   "metadata": {},
   "source": [
    "- Crie uma variável privada\n"
   ]
  },
  {
   "cell_type": "code",
   "execution_count": 23,
   "metadata": {},
   "outputs": [],
   "source": [
    "# Os atributos de instância podem ser alterados, mas imaginemos que desejamos um atributo que não deva ser alterado. Esses atributos chamamos de \"Atributos de Classe\"\n",
    "# Para isso vamos mover o atributo \"cor\" para fora da função __init__\n",
    "class Gata:\n",
    "    cor = 'preta'\n",
    "\n",
    "    def __init__(self, nome = 'Nísia'):\n",
    "        self.patas = 4\n",
    "        \n",
    "        self.nome = nome\n"
   ]
  },
  {
   "cell_type": "code",
   "execution_count": 24,
   "metadata": {},
   "outputs": [
    {
     "data": {
      "text/plain": [
       "'laranja'"
      ]
     },
     "execution_count": 24,
     "metadata": {},
     "output_type": "execute_result"
    }
   ],
   "source": [
    "# Verificando se a instância gabriela permanece com a cor laranja\n",
    "gabriela.cor"
   ]
  },
  {
   "cell_type": "code",
   "execution_count": 25,
   "metadata": {},
   "outputs": [
    {
     "data": {
      "text/plain": [
       "'preta'"
      ]
     },
     "execution_count": 25,
     "metadata": {},
     "output_type": "execute_result"
    }
   ],
   "source": [
    "# Verificando o atributo da instância Gata.cor\n",
    "Gata.cor"
   ]
  },
  {
   "cell_type": "code",
   "execution_count": 26,
   "metadata": {},
   "outputs": [],
   "source": [
    "# Tamém chamamos atributos de classe de \"Variável estática\"\n",
    "# Tradicionalmente as variáveis estáticas são usadas para manter constantes na lógica das classes\n",
    "# Tenha cuidado, pois assim como qualquer variável é possível redefini-la na classe\n",
    "# A convenção para evitar a alteração é adicionar um \"_\" antes do nome da variável\n",
    "# Isso não impede ninguém de mexer com ela, o \"_\" é apenas uma convenção para sinalizar que a variável não deve ser alterada\n",
    "# Também sinaliza que a variável é privada, ou seja, não deve ser exposta e nem modificada diretamente\n",
    "\n",
    "class Gata:\n",
    "    _cor = 'preta'\n",
    "\n",
    "    def __init__(self, nome = 'Nísia'):\n",
    "        self.patas = 4\n",
    "        \n",
    "        self.nome = nome\n",
    "\n",
    "# Em Python por padrão todos os elementos de uma classe são públicos\n",
    "# Estabelecemos como privado apenas as variáveis que podem comprometer o objeto\n",
    "# Ao escrever uma classe é necessário pensar em como ela será utilizada, quais são as expectativas, o que é mais conveniente, se as variáveis devem ser acessada diretamente\n",
    "# e se devem ou não serem modificadas"
   ]
  }
 ],
 "metadata": {
  "kernelspec": {
   "display_name": "Python 3",
   "language": "python",
   "name": "python3"
  },
  "language_info": {
   "codemirror_mode": {
    "name": "ipython",
    "version": 3
   },
   "file_extension": ".py",
   "mimetype": "text/x-python",
   "name": "python",
   "nbconvert_exporter": "python",
   "pygments_lexer": "ipython3",
   "version": "3.12.0"
  },
  "orig_nbformat": 4,
  "vscode": {
   "interpreter": {
    "hash": "916dbcbb3f70747c44a77c7bcd40155683ae19c65e1c03b4aa3499c5328201f1"
   }
  }
 },
 "nbformat": 4,
 "nbformat_minor": 2
}
