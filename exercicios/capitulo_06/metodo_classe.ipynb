{
 "cells": [
  {
   "attachments": {},
   "cell_type": "markdown",
   "metadata": {},
   "source": [
    "- Crie uma classe\n"
   ]
  },
  {
   "attachments": {},
   "cell_type": "markdown",
   "metadata": {},
   "source": [
    "- Estabeleça variáveis privadas no construtor \n"
   ]
  },
  {
   "cell_type": "code",
   "execution_count": 1,
   "metadata": {},
   "outputs": [],
   "source": [
    "# As classes tem uma anatomia um pouco mais complexa do que uma função simples\n",
    "# Em uma classe podem existir variáveis privadas que são sinalizadas com \"_\" no inicio do nome\n",
    "# A classe Gata que estamos criando possui 4 atributos: patas, nome, cor e comprimento de pelagem\n",
    "\n",
    "class Gata:\n",
    "\n",
    "    def __init__(self, **kwargs):\n",
    "        self._patas = kwargs['patas']\n",
    "        # Utilizando um operador ternário na variável _nome para definir o valor padrão que é \"Nísia\"\n",
    "        # Se ao instanciar um objeto não for passado o nome como argumento nominal, declaro o atributo _nome como um valor \"Nísia\"\n",
    "        self._nome = kwargs['nome'] if 'nome' in kwargs else 'Nísia'\n",
    "        self._cor = kwargs['cor']\n",
    "        self._comprimento_de_pelagem = kwargs['comprimento de pelagem']\n",
    "        "
   ]
  },
  {
   "attachments": {},
   "cell_type": "markdown",
   "metadata": {},
   "source": [
    "- Crie um método get, que retorne uma das variáveis privadas\n"
   ]
  },
  {
   "cell_type": "code",
   "execution_count": 2,
   "metadata": {},
   "outputs": [],
   "source": [
    "# Perceba que todas as variáveis inicializadas no construtor são privadas\n",
    "# Para acessá-las ou modificá-las o mais adequado é escrevermos os métodos get e set\n",
    "# É convencionado que o método get é usado para acessar variáveis privadas \n",
    "\n",
    "# Construindo a função getCor que receberá \"self\" como argumento e retornará \"seld._cor\", que é o atributo cor\n",
    "def getCor(self):\n",
    "    return self._cor"
   ]
  },
  {
   "attachments": {},
   "cell_type": "markdown",
   "metadata": {},
   "source": [
    "- Crie um método set, que modifique uma das variáveis privadas\n"
   ]
  },
  {
   "cell_type": "code",
   "execution_count": 4,
   "metadata": {},
   "outputs": [],
   "source": [
    "# Para modificar uma variél privada devermos cria o método set\n",
    "\n",
    "# Criando a função \"setCor\" que recebe \"self\" e \"nova_cor\" como argumento\n",
    "# Como padrão informamos que essa nova cor vai adquidir o valor \"cinza\"\n",
    "def setCor(self, nova_cor='cinza'):\n",
    "    if nova_cor:\n",
    "        self._cor = nova_cor\n",
    "    return self._cor\n",
    "\n",
    "# Esse método está recebendo o argumento \"nova_cor\" e verificando se ele é verdadeiro\n",
    "# Caso positivo, modifica a variável privada _cor para nova_cor"
   ]
  },
  {
   "attachments": {},
   "cell_type": "markdown",
   "metadata": {},
   "source": [
    "- Instancie a classe e imprima na tela a variável antes e depois da modificação\n"
   ]
  }
 ],
 "metadata": {
  "kernelspec": {
   "display_name": "Python 3",
   "language": "python",
   "name": "python3"
  },
  "language_info": {
   "codemirror_mode": {
    "name": "ipython",
    "version": 3
   },
   "file_extension": ".py",
   "mimetype": "text/x-python",
   "name": "python",
   "nbconvert_exporter": "python",
   "pygments_lexer": "ipython3",
   "version": "3.12.0"
  },
  "orig_nbformat": 4,
  "vscode": {
   "interpreter": {
    "hash": "916dbcbb3f70747c44a77c7bcd40155683ae19c65e1c03b4aa3499c5328201f1"
   }
  }
 },
 "nbformat": 4,
 "nbformat_minor": 2
}
