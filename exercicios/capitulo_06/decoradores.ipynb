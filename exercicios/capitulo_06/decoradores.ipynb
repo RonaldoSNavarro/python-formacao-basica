{
 "cells": [
  {
   "attachments": {},
   "cell_type": "markdown",
   "metadata": {},
   "source": [
    "- Crie um exemplo de função e em seguida crie um decorador para alterar o seu comportamento"
   ]
  },
  {
   "cell_type": "code",
   "execution_count": 18,
   "metadata": {},
   "outputs": [],
   "source": [
    "# Aprender sobre decoradores, vai te ajudar a reduzir a quantidade de linhas de códigos duplicadas e a escrever códigos mais fáceis de manter\n",
    "\n",
    "# Criando as funções que usaremos como exemplo\n",
    "import math\n",
    "\n",
    "def soma():\n",
    "    return 'Essa será uma função de soma.'\n",
    "\n",
    "def operacaoAritmetica(funcao):\n",
    "    return funcao()"
   ]
  },
  {
   "cell_type": "code",
   "execution_count": 19,
   "metadata": {},
   "outputs": [],
   "source": [
    "# Saiba que é possível abribuir uma função a uma variável\n",
    "\n",
    "funcao_soma = soma()"
   ]
  },
  {
   "cell_type": "code",
   "execution_count": 20,
   "metadata": {},
   "outputs": [
    {
     "data": {
      "text/plain": [
       "'Essa será uma função de soma.'"
      ]
     },
     "execution_count": 20,
     "metadata": {},
     "output_type": "execute_result"
    }
   ],
   "source": [
    "# Execução da função_soma\n",
    "\n",
    "funcao_soma"
   ]
  },
  {
   "cell_type": "code",
   "execution_count": 21,
   "metadata": {},
   "outputs": [
    {
     "data": {
      "text/plain": [
       "'Essa será uma função de soma.'"
      ]
     },
     "execution_count": 21,
     "metadata": {},
     "output_type": "execute_result"
    }
   ],
   "source": [
    "# É póssível passar uma função como argumento de outra\n",
    "\n",
    "# Passando a função soma como argumento da função operacaoAritmetica e executando\n",
    "operacaoAritmetica(soma)"
   ]
  },
  {
   "cell_type": "code",
   "execution_count": 28,
   "metadata": {},
   "outputs": [],
   "source": [
    "# Decoradores nada mais são do que uma função que recebe como argumento uma outra função e tem como objetivo alterar o funcionamento da função recebida, sem precisar reescrever tal função\n",
    "# Na prática temos funções aninhadas que convencionamos chamar de wrapper\n",
    "# Temos a função operacaoAritmetica que recebe como argumento uma função e aninhada temos a funão wrapper, que recebe um número não definido de argumentos não nominais \n",
    "# e imprime na tela a frase \"Antes da operação aritmética.\" e atribui a variável operacao a função que está como o argumento da função operacaoAritmetica, recebendo \n",
    "# um número não definido de argumentos e retorna a variável operacao.\n",
    "# E a função operacaoAritmetica retorna o resultado da wrapper \n",
    "\n",
    "def operacaoAritmetica(funcao):\n",
    "    def wrapper(*args):\n",
    "        print(f'Antes da operação aritmética.')\n",
    "        operacao = funcao(*args)\n",
    "        return operacao\n",
    "    return wrapper"
   ]
  },
  {
   "cell_type": "code",
   "execution_count": 30,
   "metadata": {},
   "outputs": [],
   "source": [
    "# Para modificar o comportamento da função operacaoAtirmética, usamos decoradores @nomedafunçãoasermodificada seguido pela função que modificará o comportamento dela\n",
    "# Nesse caso estamos definindo a função soma para modificar o comportamento da função operacaoAritmetica \n",
    "\n",
    "@operacaoAritmetica\n",
    "def soma(*args):\n",
    "    somatorio = sum(args)\n",
    "    return somatorio"
   ]
  },
  {
   "attachments": {},
   "cell_type": "markdown",
   "metadata": {},
   "source": [
    "- Execute a função"
   ]
  },
  {
   "cell_type": "code",
   "execution_count": 32,
   "metadata": {},
   "outputs": [
    {
     "name": "stdout",
     "output_type": "stream",
     "text": [
      "Antes da operação aritmética.\n"
     ]
    },
    {
     "data": {
      "text/plain": [
       "16"
      ]
     },
     "execution_count": 32,
     "metadata": {},
     "output_type": "execute_result"
    }
   ],
   "source": [
    "# Executando a função soma\n",
    "\n",
    "soma(2,3,5,6)\n",
    "\n",
    "# Nesse exemplo Python entende que a função soma faz parte da função operacaoAritmetica\n",
    "# Por isso é impresso na tela a string \"Antes da operação aritmética.\" seguido do somatório dos números passados como argumento"
   ]
  }
 ],
 "metadata": {
  "kernelspec": {
   "display_name": "Python 3",
   "language": "python",
   "name": "python3"
  },
  "language_info": {
   "codemirror_mode": {
    "name": "ipython",
    "version": 3
   },
   "file_extension": ".py",
   "mimetype": "text/x-python",
   "name": "python",
   "nbconvert_exporter": "python",
   "pygments_lexer": "ipython3",
   "version": "3.12.0"
  },
  "orig_nbformat": 4,
  "vscode": {
   "interpreter": {
    "hash": "916dbcbb3f70747c44a77c7bcd40155683ae19c65e1c03b4aa3499c5328201f1"
   }
  }
 },
 "nbformat": 4,
 "nbformat_minor": 2
}
