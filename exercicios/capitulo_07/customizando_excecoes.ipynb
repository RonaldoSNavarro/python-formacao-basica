{
 "cells": [
  {
   "attachments": {},
   "cell_type": "markdown",
   "metadata": {},
   "source": [
    "- Imagine que você está criando um servidor web e customize exceções para o código\n"
   ]
  },
  {
   "cell_type": "code",
   "execution_count": 3,
   "metadata": {},
   "outputs": [],
   "source": [
    "# Podemos customizar exceções em nossos projetos.\n",
    "# Isso é útil para documentar os problemas que podem acontecer, o que os causou e quais são as soluções\n",
    "\n",
    "# Gerando exceções HTTP em alguns pontos do código\n",
    "# A classe HttpException vai extender da super classe Exception, que é uma classe nativa do Python conhecida por tratar exceções \n",
    "# Além disso vamos extender o construtor da superclasse e fazer algumas modificações\n",
    "class HttpException(Exception):\n",
    "    codigo_status = None\n",
    "    mensagem = None\n",
    "\n",
    "    def __init__(self):\n",
    "        super().__init__(f'Código do status: {self.codigo_status}. Mensagem: {self.mensagem}') # extendendo o construtor da superclasse\n",
    "\n",
    "\n",
    "# A partir da classe HttpException vamos criar mais duas outras.\n",
    "# Uma para tratar o erro de autorização de acesso \"Unautorized\" que vai extender de HttpException\n",
    "class Unautorized(HttpException):\n",
    "    codigo_status = 401 # 401 é um código de estado de resposta http\n",
    "    mensagem = 'Acesso não autorizado'\n",
    "\n",
    "# Classe para tratar o erro de resposta dos servidores de back-end\n",
    "class BadGateway(HttpException):\n",
    "    codigo_status = 502\n",
    "    mensagem = 'Esse servidor é um gateway ou servidor proxi, que não está recebendo resposta válida dos servidores back-end.'"
   ]
  },
  {
   "attachments": {},
   "cell_type": "markdown",
   "metadata": {},
   "source": [
    "- Simule a aplicação de uma exceção customizada no código"
   ]
  },
  {
   "cell_type": "code",
   "execution_count": 8,
   "metadata": {},
   "outputs": [],
   "source": [
    "# Código que levanta uma dessas exceções\n",
    "# Usamos a palavra reservada \"raise\" para explicitar que o código está levantando uma exceção\n",
    "def raiseUnautorizedError():\n",
    "    raise Unautorized()\n",
    "\n",
    "def raiseBadGatewayError():\n",
    "    raise BadGateway()"
   ]
  },
  {
   "cell_type": "code",
   "execution_count": 6,
   "metadata": {},
   "outputs": [
    {
     "ename": "Unautorized",
     "evalue": "Código do status: 401. Mensagem: Acesso não autorizado",
     "output_type": "error",
     "traceback": [
      "\u001b[1;31m---------------------------------------------------------------------------\u001b[0m",
      "\u001b[1;31mUnautorized\u001b[0m                               Traceback (most recent call last)",
      "Cell \u001b[1;32mIn[6], line 2\u001b[0m\n\u001b[0;32m      1\u001b[0m \u001b[38;5;66;03m# Chamando a função\u001b[39;00m\n\u001b[1;32m----> 2\u001b[0m \u001b[43mraiseUnautorizedError\u001b[49m\u001b[43m(\u001b[49m\u001b[43m)\u001b[49m\n",
      "Cell \u001b[1;32mIn[4], line 4\u001b[0m, in \u001b[0;36mraiseUnautorizedError\u001b[1;34m()\u001b[0m\n\u001b[0;32m      3\u001b[0m \u001b[38;5;28;01mdef\u001b[39;00m \u001b[38;5;21mraiseUnautorizedError\u001b[39m():\n\u001b[1;32m----> 4\u001b[0m     \u001b[38;5;28;01mraise\u001b[39;00m Unautorized()\n",
      "\u001b[1;31mUnautorized\u001b[0m: Código do status: 401. Mensagem: Acesso não autorizado"
     ]
    }
   ],
   "source": [
    "# Chamando a função\n",
    "raiseUnautorizedError()"
   ]
  },
  {
   "cell_type": "code",
   "execution_count": 9,
   "metadata": {},
   "outputs": [
    {
     "ename": "BadGateway",
     "evalue": "Código do status: 502. Mensagem: Esse servidor é um gateway ou servidor proxi, que não está recebendo resposta válida dos servidores back-end.",
     "output_type": "error",
     "traceback": [
      "\u001b[1;31m---------------------------------------------------------------------------\u001b[0m",
      "\u001b[1;31mBadGateway\u001b[0m                                Traceback (most recent call last)",
      "Cell \u001b[1;32mIn[9], line 1\u001b[0m\n\u001b[1;32m----> 1\u001b[0m \u001b[43mraiseBadGatewayError\u001b[49m\u001b[43m(\u001b[49m\u001b[43m)\u001b[49m\n",
      "Cell \u001b[1;32mIn[8], line 7\u001b[0m, in \u001b[0;36mraiseBadGatewayError\u001b[1;34m()\u001b[0m\n\u001b[0;32m      6\u001b[0m \u001b[38;5;28;01mdef\u001b[39;00m \u001b[38;5;21mraiseBadGatewayError\u001b[39m():\n\u001b[1;32m----> 7\u001b[0m     \u001b[38;5;28;01mraise\u001b[39;00m BadGateway()\n",
      "\u001b[1;31mBadGateway\u001b[0m: Código do status: 502. Mensagem: Esse servidor é um gateway ou servidor proxi, que não está recebendo resposta válida dos servidores back-end."
     ]
    }
   ],
   "source": [
    "raiseBadGatewayError()"
   ]
  }
 ],
 "metadata": {
  "kernelspec": {
   "display_name": "Python 3",
   "language": "python",
   "name": "python3"
  },
  "language_info": {
   "codemirror_mode": {
    "name": "ipython",
    "version": 3
   },
   "file_extension": ".py",
   "mimetype": "text/x-python",
   "name": "python",
   "nbconvert_exporter": "python",
   "pygments_lexer": "ipython3",
   "version": "3.12.0"
  },
  "orig_nbformat": 4,
  "vscode": {
   "interpreter": {
    "hash": "916dbcbb3f70747c44a77c7bcd40155683ae19c65e1c03b4aa3499c5328201f1"
   }
  }
 },
 "nbformat": 4,
 "nbformat_minor": 2
}
