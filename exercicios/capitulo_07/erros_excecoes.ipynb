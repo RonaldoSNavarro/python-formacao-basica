{
 "cells": [
  {
   "attachments": {},
   "cell_type": "markdown",
   "metadata": {},
   "source": [
    "- Crie tratamento para as exceções: ZeroDivisionError e TypeError usando a sintaxe try...except...finally\n"
   ]
  },
  {
   "cell_type": "code",
   "execution_count": 13,
   "metadata": {},
   "outputs": [
    {
     "name": "stdout",
     "output_type": "stream",
     "text": [
      "Mensagem automática de erro genérico.\n"
     ]
    }
   ],
   "source": [
    "# Vamos aprender a manusear exceções no código. Isso é possível com o bloco \"Try, except, finally\"\n",
    "# o finally por enquanto é opcional, vamos adicionar a palavra reservada \"pass\"\n",
    "# \"Try\" é onde inserimos o código a ser executado e caso aja alguma exceção o bloco \"except\" informará como ela deve ser tratada\n",
    "# É possível definir um tratamento genérico para qualquer erro usando a classe \"exception\"\n",
    "# Para excrever nosso exemplo, vamos importar 2 métodos da biblioteca random: random (esse método gera números float) e randrange (que escolhe um número no range definido a partir do argumento passado)\n",
    "\n",
    "from random import random, randrange\n",
    "\n",
    "try:\n",
    "    x = random() / 0\n",
    "    print(x)\n",
    "except Exception:\n",
    "    print('Mensagem automática de erro genérico.')\n",
    "finally:\n",
    "    pass\n",
    "\n",
    "# A exceção aconteceu pois nenhum número é divisível por 0"
   ]
  },
  {
   "cell_type": "code",
   "execution_count": 28,
   "metadata": {},
   "outputs": [
    {
     "name": "stdout",
     "output_type": "stream",
     "text": [
      "Existe um erro de tipo. Talvez você esteja tentando aplicar um método não suportado por tipos de dados numéricos.\n",
      "Fim.\n"
     ]
    }
   ],
   "source": [
    "# É possível estabelecerr tratamento para cada tipo de exceção\n",
    "# Vamos criar o tratamento para ZeroDivisorError, que é uma classe de exceção já conhecida pelo Python\n",
    "\n",
    "try:\n",
    "    x = random() / '0' # simulando erro de tipo\n",
    "    print(x)\n",
    "\n",
    "except ZeroDivisionError:\n",
    "    print('Nenhum número é divisível por zero.')\n",
    "    y = randrange(10)\n",
    "    print(f'Vamos dividir o número desejado por {y}')\n",
    "    x = random() / y\n",
    "    print(f'Aqui está o resultado: {x}')\n",
    "\n",
    "# Sabemos que temos um erro de divisão por zero\n",
    "# Vamos acrescentar uma exceção para tratamento de erro de tipo\n",
    "\n",
    "except TypeError:\n",
    "    print('Existe um erro de tipo. Talvez você esteja tentando aplicar um método não suportado por tipos de dados numéricos.')\n",
    "\n",
    "except Exception:\n",
    "    print('Mensagem automática de erro genérico.')\n",
    "\n",
    "# É possível estabelecer um bloco de código para finally. Ele será executado não importa o que aconteça\n",
    "# Se o código for executado com sucesso ou gerar alguma exceção, o bloco de código finally será executado em ambos os cenários\n",
    "finally:\n",
    "    print('Fim.')"
   ]
  }
 ],
 "metadata": {
  "kernelspec": {
   "display_name": "Python 3",
   "language": "python",
   "name": "python3"
  },
  "language_info": {
   "codemirror_mode": {
    "name": "ipython",
    "version": 3
   },
   "file_extension": ".py",
   "mimetype": "text/x-python",
   "name": "python",
   "nbconvert_exporter": "python",
   "pygments_lexer": "ipython3",
   "version": "3.12.0"
  },
  "orig_nbformat": 4,
  "vscode": {
   "interpreter": {
    "hash": "916dbcbb3f70747c44a77c7bcd40155683ae19c65e1c03b4aa3499c5328201f1"
   }
  }
 },
 "nbformat": 4,
 "nbformat_minor": 2
}
