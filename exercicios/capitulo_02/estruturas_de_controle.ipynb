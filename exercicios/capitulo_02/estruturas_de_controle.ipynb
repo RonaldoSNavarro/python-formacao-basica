{
    "cells": [
        {
            "cell_type": "code",
            "execution_count": 1,
            "metadata": {},
            "outputs": [
                {
                    "name": "stdout",
                    "output_type": "stream",
                    "text": [
                        "Tem internet\n"
                    ]
                }
            ],
            "source": [
                "# Estrutura de controle do tipo seleção\n",
                "\n",
                "a = ('rede')\n",
                "lista = ['internet', 'rede', 'cabeada', 'wifi']\n",
                "if a in lista:\n",
                "    print('Tem internet')\n",
                "else:\n",
                "    print('Não tem internet')"
            ]
        },
        {
            "cell_type": "code",
            "execution_count": 2,
            "metadata": {},
            "outputs": [
                {
                    "name": "stdout",
                    "output_type": "stream",
                    "text": [
                        "internet\n",
                        "rede\n",
                        "cabeada\n",
                        "wifi\n"
                    ]
                }
            ],
            "source": [
                "# Estrutura de controle do tipo iteração\n",
                "\n",
                "for palavra in lista:\n",
                "    print(palavra)\n",
                "\n",
                "# A variável palavra é temporária e  só existe dentro do escopo do \"for\". Ou seja, quando a repetição acabar, a variável deixará de existir"
            ]
        },
        {
            "cell_type": "code",
            "execution_count": 3,
            "metadata": {},
            "outputs": [
                {
                    "name": "stdout",
                    "output_type": "stream",
                    "text": [
                        "2 é menor que 10\n",
                        "3 é menor que 10\n",
                        "4 é menor que 10\n",
                        "5 é menor que 10\n",
                        "6 é menor que 10\n",
                        "7 é menor que 10\n",
                        "8 é menor que 10\n",
                        "9 é menor que 10\n"
                    ]
                }
            ],
            "source": [
                "# A repetição do tipo while repete o techo de código pela quantidade de vezes que determinada condição for verdadeira\n",
                "\n",
                "b = 2\n",
                "while b < 10:\n",
                "    print(b, 'é menor que 10')\n",
                "    b += 1"
            ]
        }
    ],
    "metadata": {
        "kernelspec": {
            "display_name": "Python 3",
            "language": "python",
            "name": "python3"
        },
        "language_info": {
            "codemirror_mode": {
                "name": "ipython",
                "version": 3
            },
            "file_extension": ".py",
            "mimetype": "text/x-python",
            "name": "python",
            "nbconvert_exporter": "python",
            "pygments_lexer": "ipython3",
            "version": "3.12.0"
        }
    },
    "nbformat": 4,
    "nbformat_minor": 2
}
