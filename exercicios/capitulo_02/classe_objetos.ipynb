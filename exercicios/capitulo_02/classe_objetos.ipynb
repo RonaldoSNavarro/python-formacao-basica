{
 "cells": [
  {
   "cell_type": "markdown",
   "metadata": {},
   "source": [
    "- Crie uma classe com 3 atributos"
   ]
  },
  {
   "cell_type": "code",
   "execution_count": 50,
   "metadata": {},
   "outputs": [],
   "source": [
    "class Gata:\n",
    "    def __init__(self, nome='Nísia'):\n",
    "\n",
    "        self.patas = 4\n",
    "        self.cor = 'preta'\n",
    "        self.nome = nome\n",
    "        "
   ]
  },
  {
   "cell_type": "markdown",
   "metadata": {},
   "source": [
    "- Defina um método para a classe"
   ]
  },
  {
   "cell_type": "code",
   "execution_count": 53,
   "metadata": {},
   "outputs": [
    {
     "ename": "AttributeError",
     "evalue": "'Gata' object has no attribute 'som'",
     "output_type": "error",
     "traceback": [
      "\u001b[1;31m---------------------------------------------------------------------------\u001b[0m",
      "\u001b[1;31mAttributeError\u001b[0m                            Traceback (most recent call last)",
      "\u001b[1;32mf:\\Dev\\Python\\Python basico linkedIn\\python-formacao-basica-3083858-main\\exercicios\\capitulo_02\\classe_objetos.ipynb Cell 4\u001b[0m line \u001b[0;36m6\n\u001b[0;32m      <a href='vscode-notebook-cell:/f%3A/Dev/Python/Python%20basico%20linkedIn/python-formacao-basica-3083858-main/exercicios/capitulo_02/classe_objetos.ipynb#X12sZmlsZQ%3D%3D?line=1'>2</a>\u001b[0m     \u001b[39mprint\u001b[39m(\u001b[39mself\u001b[39m\u001b[39m.\u001b[39mnome \u001b[39m+\u001b[39m \u001b[39m'\u001b[39m\u001b[39m é uma gata que mia.\u001b[39m\u001b[39m'\u001b[39m)\n\u001b[0;32m      <a href='vscode-notebook-cell:/f%3A/Dev/Python/Python%20basico%20linkedIn/python-formacao-basica-3083858-main/exercicios/capitulo_02/classe_objetos.ipynb#X12sZmlsZQ%3D%3D?line=3'>4</a>\u001b[0m gata_bairro \u001b[39m=\u001b[39m Gata(\u001b[39m'\u001b[39m\u001b[39mSara\u001b[39m\u001b[39m'\u001b[39m)\n\u001b[1;32m----> <a href='vscode-notebook-cell:/f%3A/Dev/Python/Python%20basico%20linkedIn/python-formacao-basica-3083858-main/exercicios/capitulo_02/classe_objetos.ipynb#X12sZmlsZQ%3D%3D?line=5'>6</a>\u001b[0m gata_bairro\u001b[39m.\u001b[39;49msom()\n",
      "\u001b[1;31mAttributeError\u001b[0m: 'Gata' object has no attribute 'som'"
     ]
    }
   ],
   "source": [
    "def som(self):\n",
    "    print(self.nome + ' é uma gata que mia.')\n",
    "\n",
    "gata_bairro = Gata('Sara')\n",
    "\n",
    "gata_bairro.som()"
   ]
  },
  {
   "cell_type": "markdown",
   "metadata": {},
   "source": [
    "- Instancie a classe"
   ]
  },
  {
   "cell_type": "code",
   "execution_count": 36,
   "metadata": {},
   "outputs": [],
   "source": [
    "minha_gata = Gata()\n",
    "\n",
    "gata_vizinha = Gata()"
   ]
  },
  {
   "cell_type": "markdown",
   "metadata": {},
   "source": [
    "- Execute o método"
   ]
  },
  {
   "cell_type": "code",
   "execution_count": 48,
   "metadata": {},
   "outputs": [
    {
     "ename": "AttributeError",
     "evalue": "'Gata' object has no attribute 'som'",
     "output_type": "error",
     "traceback": [
      "\u001b[1;31m---------------------------------------------------------------------------\u001b[0m",
      "\u001b[1;31mAttributeError\u001b[0m                            Traceback (most recent call last)",
      "\u001b[1;32mf:\\Dev\\Python\\Python basico linkedIn\\python-formacao-basica-3083858-main\\exercicios\\capitulo_02\\classe_objetos.ipynb Cell 8\u001b[0m line \u001b[0;36m1\n\u001b[1;32m----> <a href='vscode-notebook-cell:/f%3A/Dev/Python/Python%20basico%20linkedIn/python-formacao-basica-3083858-main/exercicios/capitulo_02/classe_objetos.ipynb#X14sZmlsZQ%3D%3D?line=0'>1</a>\u001b[0m minha_gata\u001b[39m.\u001b[39;49msom()\n\u001b[0;32m      <a href='vscode-notebook-cell:/f%3A/Dev/Python/Python%20basico%20linkedIn/python-formacao-basica-3083858-main/exercicios/capitulo_02/classe_objetos.ipynb#X14sZmlsZQ%3D%3D?line=2'>3</a>\u001b[0m gata_vizinha\u001b[39m.\u001b[39msom()\n",
      "\u001b[1;31mAttributeError\u001b[0m: 'Gata' object has no attribute 'som'"
     ]
    }
   ],
   "source": [
    "minha_gata.som()\n",
    "\n",
    "gata_vizinha.som()"
   ]
  }
 ],
 "metadata": {
  "kernelspec": {
   "display_name": "Python 3.11.0 64-bit",
   "language": "python",
   "name": "python3"
  },
  "language_info": {
   "codemirror_mode": {
    "name": "ipython",
    "version": 3
   },
   "file_extension": ".py",
   "mimetype": "text/x-python",
   "name": "python",
   "nbconvert_exporter": "python",
   "pygments_lexer": "ipython3",
   "version": "3.12.0"
  },
  "orig_nbformat": 4,
  "vscode": {
   "interpreter": {
    "hash": "1a1af0ee75eeea9e2e1ee996c87e7a2b11a0bebd85af04bb136d915cefc0abce"
   }
  }
 },
 "nbformat": 4,
 "nbformat_minor": 2
}
