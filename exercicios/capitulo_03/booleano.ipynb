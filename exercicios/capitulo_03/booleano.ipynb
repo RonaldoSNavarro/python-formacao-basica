{
 "cells": [
  {
   "attachments": {},
   "cell_type": "markdown",
   "metadata": {},
   "source": [
    "- Declare uma variável do tipo lista com 4 elementos"
   ]
  },
  {
   "cell_type": "code",
   "execution_count": 1,
   "metadata": {},
   "outputs": [
    {
     "data": {
      "text/plain": [
       "True"
      ]
     },
     "execution_count": 1,
     "metadata": {},
     "output_type": "execute_result"
    }
   ],
   "source": [
    "# Os tipos booleanos são True e False\n",
    "# Na prática isso quer dizer que todo número é verdadeiro, isso inclui os negativos\n",
    "\n",
    "bool(1)"
   ]
  },
  {
   "cell_type": "code",
   "execution_count": 2,
   "metadata": {},
   "outputs": [
    {
     "data": {
      "text/plain": [
       "True"
      ]
     },
     "execution_count": 2,
     "metadata": {},
     "output_type": "execute_result"
    }
   ],
   "source": [
    "bool(-1)"
   ]
  },
  {
   "cell_type": "code",
   "execution_count": 3,
   "metadata": {},
   "outputs": [
    {
     "data": {
      "text/plain": [
       "False"
      ]
     },
     "execution_count": 3,
     "metadata": {},
     "output_type": "execute_result"
    }
   ],
   "source": [
    "# No entanto zero é um valor falso\n",
    "\n",
    "bool(0)"
   ]
  },
  {
   "cell_type": "code",
   "execution_count": 4,
   "metadata": {},
   "outputs": [
    {
     "data": {
      "text/plain": [
       "True"
      ]
     },
     "execution_count": 4,
     "metadata": {},
     "output_type": "execute_result"
    }
   ],
   "source": [
    "# Strings também são verdadeiras, ainda que a palavra seja false\n",
    "\n",
    "bool('string')"
   ]
  },
  {
   "cell_type": "code",
   "execution_count": 5,
   "metadata": {},
   "outputs": [
    {
     "data": {
      "text/plain": [
       "True"
      ]
     },
     "execution_count": 5,
     "metadata": {},
     "output_type": "execute_result"
    }
   ],
   "source": [
    "bool('false')"
   ]
  },
  {
   "cell_type": "code",
   "execution_count": 6,
   "metadata": {},
   "outputs": [
    {
     "data": {
      "text/plain": [
       "False"
      ]
     },
     "execution_count": 6,
     "metadata": {},
     "output_type": "execute_result"
    }
   ],
   "source": [
    "# Uma string vazia é falsa\n",
    "\n",
    "bool('')\n",
    "\n",
    "# Perceba que a string está completamente vazia"
   ]
  },
  {
   "cell_type": "code",
   "execution_count": 7,
   "metadata": {},
   "outputs": [
    {
     "data": {
      "text/plain": [
       "True"
      ]
     },
     "execution_count": 7,
     "metadata": {},
     "output_type": "execute_result"
    }
   ],
   "source": [
    "# Se inserirmos um espaço em branco na string, se torna um valor verdadeiro\n",
    "\n",
    "bool(' ')"
   ]
  },
  {
   "cell_type": "code",
   "execution_count": 8,
   "metadata": {},
   "outputs": [
    {
     "data": {
      "text/plain": [
       "False"
      ]
     },
     "execution_count": 8,
     "metadata": {},
     "output_type": "execute_result"
    }
   ],
   "source": [
    "# Estruturas de dados vazias também correspondem a um valor falso\n",
    "\n",
    "bool({})"
   ]
  },
  {
   "cell_type": "code",
   "execution_count": 9,
   "metadata": {},
   "outputs": [
    {
     "data": {
      "text/plain": [
       "False"
      ]
     },
     "execution_count": 9,
     "metadata": {},
     "output_type": "execute_result"
    }
   ],
   "source": [
    "# O objedo None também é falso. Essa é uma palavra reservada do Python para representar a ausência de valor\n",
    "\n",
    "bool(None)"
   ]
  },
  {
   "attachments": {},
   "cell_type": "markdown",
   "metadata": {},
   "source": [
    "- Crie um for loop que passe por todos os itens da lista e imprima o item\n"
   ]
  },
  {
   "cell_type": "code",
   "execution_count": 10,
   "metadata": {},
   "outputs": [],
   "source": [
    "minha_lista = [3, 6, None, 80]"
   ]
  },
  {
   "cell_type": "code",
   "execution_count": 11,
   "metadata": {},
   "outputs": [
    {
     "name": "stdout",
     "output_type": "stream",
     "text": [
      "Minha lista tem valores\n"
     ]
    }
   ],
   "source": [
    "if minha_lista:\n",
    "    print('Minha lista tem valores')\n",
    "\n",
    "# A frase foi impressa pois existem valores em minha_lista, ou seja, o valor booleano de minha_lista é verdadeiro"
   ]
  },
  {
   "cell_type": "code",
   "execution_count": 12,
   "metadata": {},
   "outputs": [
    {
     "name": "stdout",
     "output_type": "stream",
     "text": [
      "Minha lista tem valores\n"
     ]
    }
   ],
   "source": [
    "# Outra forma de escrever essa estrutura condicional é deixar de forma explicita que estamos verificando o valor booleano de minha_lista\n",
    "\n",
    "if bool(minha_lista) == True:\n",
    "    print('Minha lista tem valores')"
   ]
  },
  {
   "cell_type": "code",
   "execution_count": 13,
   "metadata": {},
   "outputs": [
    {
     "name": "stdout",
     "output_type": "stream",
     "text": [
      "3 é um número válido\n",
      "6 é um número válido\n",
      "None é um valor faltante\n",
      "80 é um número válido\n"
     ]
    }
   ],
   "source": [
    "for item in minha_lista:\n",
    "    if item:\n",
    "        print(f'{item} é um número válido')\n",
    "    else:\n",
    "        print(f'{item} é um valor faltante')"
   ]
  },
  {
   "cell_type": "code",
   "execution_count": 15,
   "metadata": {},
   "outputs": [
    {
     "name": "stdout",
     "output_type": "stream",
     "text": [
      "Vai dar um passeio\n"
     ]
    }
   ],
   "source": [
    "# As vezes excrevemos expressões lógicas de formas não tão lógicas. É importante prestar atenção em como Python está interpretando seu código\n",
    "# Vamos ver uma situação em que estamos avaliando se devemos ou não dar um passeio\n",
    "\n",
    "clima_bom = True\n",
    "tenho_sombrinha = False\n",
    "\n",
    "\n",
    "if not clima_bom or tenho_sombrinha:\n",
    "    print('Fique em casa')\n",
    "else:\n",
    "    print('Vai dar um passeio')\n",
    "\n",
    "# Perceba que o operador not está sendo aplicado a variável clima_bom, então, Python entende que essa variável é False\n",
    "# Como estamos usando o operador or e nenhuma das variáveis é verdadeira, o trecho de código que está sendo executado é o correspondente ao else"
   ]
  }
 ],
 "metadata": {
  "kernelspec": {
   "display_name": "Python 3",
   "language": "python",
   "name": "python3"
  },
  "language_info": {
   "codemirror_mode": {
    "name": "ipython",
    "version": 3
   },
   "file_extension": ".py",
   "mimetype": "text/x-python",
   "name": "python",
   "nbconvert_exporter": "python",
   "pygments_lexer": "ipython3",
   "version": "3.12.0"
  },
  "orig_nbformat": 4,
  "vscode": {
   "interpreter": {
    "hash": "916dbcbb3f70747c44a77c7bcd40155683ae19c65e1c03b4aa3499c5328201f1"
   }
  }
 },
 "nbformat": 4,
 "nbformat_minor": 2
}
