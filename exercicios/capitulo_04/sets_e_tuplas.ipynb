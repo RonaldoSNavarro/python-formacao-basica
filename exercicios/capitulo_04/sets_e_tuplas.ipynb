{
 "cells": [
  {
   "attachments": {},
   "cell_type": "markdown",
   "metadata": {},
   "source": [
    "- Crie um conjunto\n"
   ]
  },
  {
   "cell_type": "code",
   "execution_count": 4,
   "metadata": {},
   "outputs": [
    {
     "data": {
      "text/plain": [
       "set"
      ]
     },
     "execution_count": 4,
     "metadata": {},
     "output_type": "execute_result"
    }
   ],
   "source": [
    "# Conjuntos são compostos com valores únicos e declarados usando chaves {}\n",
    "\n",
    "conjunto = {'grama', 'sol', 'cachoeira'}\n",
    "\n",
    "type(conjunto)"
   ]
  },
  {
   "cell_type": "code",
   "execution_count": 6,
   "metadata": {},
   "outputs": [
    {
     "name": "stdout",
     "output_type": "stream",
     "text": [
      "{'sol', 'cachoeira', 'grama'}\n"
     ]
    }
   ],
   "source": [
    "# Ainda que declaremos um conjunto com valores repetidos, apenas um deles será guardado\n",
    "\n",
    "conjunto_rep = {'sol', 'grama', 'sol', 'cachoeira'}\n",
    "print(conjunto_rep)"
   ]
  },
  {
   "attachments": {},
   "cell_type": "markdown",
   "metadata": {},
   "source": [
    "- Converta uma lista em um conjunto\n"
   ]
  },
  {
   "cell_type": "code",
   "execution_count": 10,
   "metadata": {},
   "outputs": [
    {
     "data": {
      "text/plain": [
       "set"
      ]
     },
     "execution_count": 10,
     "metadata": {},
     "output_type": "execute_result"
    }
   ],
   "source": [
    "# Também é possível converter objetos iteráveis em sets\n",
    "\n",
    "conjunto_numeros = set(range(10))\n",
    "\n",
    "type(conjunto_numeros)"
   ]
  },
  {
   "cell_type": "code",
   "execution_count": 13,
   "metadata": {},
   "outputs": [],
   "source": [
    "#  e converter uma lista em um conjunto\n",
    "\n",
    "lista = ['a', 'b', 'c', 'b', 'a']\n",
    "conjunto_lista = set(lista)\n",
    "lista = list(conjunto_lista)"
   ]
  },
  {
   "cell_type": "code",
   "execution_count": 14,
   "metadata": {},
   "outputs": [
    {
     "name": "stdout",
     "output_type": "stream",
     "text": [
      "['a', 'b', 'c']\n"
     ]
    }
   ],
   "source": [
    "print(lista)\n",
    "\n",
    "# A nova lista não tem itens duplicados, pois quando foi convertida para conjunto a duplicação foi eliminada\n",
    "# A ordem dos ítens em um conjunto não é importante. Isso significa que não podemos acessar os itens usando o indice"
   ]
  },
  {
   "attachments": {},
   "cell_type": "markdown",
   "metadata": {},
   "source": [
    "- Insira novos valores no conjunto\n"
   ]
  },
  {
   "cell_type": "code",
   "execution_count": 16,
   "metadata": {},
   "outputs": [],
   "source": [
    "# Não podemos substituir os itens do conjunto usando seu indice, no entento, é possível adicionar o elemento em um conjunto usando a função add\n",
    "\n",
    "conjunto.add('pomar')"
   ]
  },
  {
   "attachments": {},
   "cell_type": "markdown",
   "metadata": {},
   "source": [
    "- Remova um elemento do conjunto\n"
   ]
  },
  {
   "cell_type": "code",
   "execution_count": 15,
   "metadata": {},
   "outputs": [],
   "source": [
    "# E remonver elementos usando a função discard\n",
    "\n",
    "conjunto.discard('sol')"
   ]
  },
  {
   "cell_type": "code",
   "execution_count": 18,
   "metadata": {},
   "outputs": [
    {
     "name": "stdout",
     "output_type": "stream",
     "text": [
      "{'cachoeira', 'pomar', 'grama'}\n"
     ]
    }
   ],
   "source": [
    "print(conjunto)"
   ]
  },
  {
   "attachments": {},
   "cell_type": "markdown",
   "metadata": {},
   "source": [
    "- Verifique se um elemento está contino no conjunto"
   ]
  },
  {
   "cell_type": "code",
   "execution_count": 20,
   "metadata": {},
   "outputs": [
    {
     "data": {
      "text/plain": [
       "True"
      ]
     },
     "execution_count": 20,
     "metadata": {},
     "output_type": "execute_result"
    }
   ],
   "source": [
    "# É possível verificar se um ítem está contido em um conjunto usando operadores de associação\n",
    "\n",
    "'grama' in conjunto"
   ]
  },
  {
   "attachments": {},
   "cell_type": "markdown",
   "metadata": {},
   "source": [
    "- Crie uma tupla\n"
   ]
  },
  {
   "cell_type": "code",
   "execution_count": 2,
   "metadata": {},
   "outputs": [
    {
     "data": {
      "text/plain": [
       "tuple"
      ]
     },
     "execution_count": 2,
     "metadata": {},
     "output_type": "execute_result"
    }
   ],
   "source": [
    "# Estrutura tupla se assemelha as listas, no entanto é declarada com parênteses e não podemos modificar seus elementos\n",
    "\n",
    "tupla = (False, True, False, False, True)\n",
    "\n",
    "type(tupla)"
   ]
  },
  {
   "attachments": {},
   "cell_type": "markdown",
   "metadata": {},
   "source": [
    "- Imprima na tela um elemento da tupla\n"
   ]
  },
  {
   "cell_type": "code",
   "execution_count": 5,
   "metadata": {},
   "outputs": [
    {
     "data": {
      "text/plain": [
       "False"
      ]
     },
     "execution_count": 5,
     "metadata": {},
     "output_type": "execute_result"
    }
   ],
   "source": [
    "# nessa estrutura os elementos são ordenados, sendo possível acessá-los usando o seu índice, mas não modificá-los\n",
    "\n",
    "tupla[2]"
   ]
  },
  {
   "cell_type": "code",
   "execution_count": 8,
   "metadata": {},
   "outputs": [
    {
     "ename": "TypeError",
     "evalue": "'tuple' object does not support item assignment",
     "output_type": "error",
     "traceback": [
      "\u001b[1;31m---------------------------------------------------------------------------\u001b[0m",
      "\u001b[1;31mTypeError\u001b[0m                                 Traceback (most recent call last)",
      "\u001b[1;32mf:\\Dev\\Python\\Python basico linkedIn\\python-formacao-basica-3083858-main\\exercicios\\capitulo_04\\sets_e_tuplas.ipynb Cell 19\u001b[0m line \u001b[0;36m2\n\u001b[0;32m      <a href='vscode-notebook-cell:/f%3A/Dev/Python/Python%20basico%20linkedIn/python-formacao-basica-3083858-main/exercicios/capitulo_04/sets_e_tuplas.ipynb#X26sZmlsZQ%3D%3D?line=0'>1</a>\u001b[0m \u001b[39m# Ao tentar modificá-lo, um erro de tipo é apresentado\u001b[39;00m\n\u001b[1;32m----> <a href='vscode-notebook-cell:/f%3A/Dev/Python/Python%20basico%20linkedIn/python-formacao-basica-3083858-main/exercicios/capitulo_04/sets_e_tuplas.ipynb#X26sZmlsZQ%3D%3D?line=1'>2</a>\u001b[0m tupla[\u001b[39m2\u001b[39;49m] \u001b[39m=\u001b[39m \u001b[39mFalse\u001b[39;00m\n",
      "\u001b[1;31mTypeError\u001b[0m: 'tuple' object does not support item assignment"
     ]
    }
   ],
   "source": [
    "# Ao tentar modificá-lo, um erro de tipo é apresentado pois as tuplas não possuem um método de atribuição\n",
    "tupla[2] = False"
   ]
  },
  {
   "attachments": {},
   "cell_type": "markdown",
   "metadata": {},
   "source": [
    "- Crie uma função que retorne mais de um elemento\n"
   ]
  },
  {
   "cell_type": "code",
   "execution_count": 12,
   "metadata": {},
   "outputs": [
    {
     "data": {
      "text/plain": [
       "tuple"
      ]
     },
     "execution_count": 12,
     "metadata": {},
     "output_type": "execute_result"
    }
   ],
   "source": [
    "# Tupla é a estrutura padrão usada em funções que retornam vários valores \n",
    "\n",
    "def estacoesAno():\n",
    "    return 'primavera', 'verão', 'outono', 'inverno' # Não é necessário parênteses no retorno da função\n",
    "\n",
    "type(estacoesAno())"
   ]
  },
  {
   "attachments": {},
   "cell_type": "markdown",
   "metadata": {},
   "source": [
    "- Atribua cada elemento da função em uma variável"
   ]
  },
  {
   "cell_type": "code",
   "execution_count": 13,
   "metadata": {},
   "outputs": [
    {
     "name": "stdout",
     "output_type": "stream",
     "text": [
      "primavera\n",
      "verão\n",
      "outono\n",
      "inverno\n"
     ]
    }
   ],
   "source": [
    "# Podemos guardar cada estação do ano da função e uma variável diferente, chamamos isso de desconpactação de valores\n",
    "\n",
    "a, b, c, d = estacoesAno()\n",
    "print(a)\n",
    "print(b)\n",
    "print(c)\n",
    "print(d)"
   ]
  }
 ],
 "metadata": {
  "kernelspec": {
   "display_name": "Python 3",
   "language": "python",
   "name": "python3"
  },
  "language_info": {
   "codemirror_mode": {
    "name": "ipython",
    "version": 3
   },
   "file_extension": ".py",
   "mimetype": "text/x-python",
   "name": "python",
   "nbconvert_exporter": "python",
   "pygments_lexer": "ipython3",
   "version": "3.12.0"
  },
  "orig_nbformat": 4,
  "vscode": {
   "interpreter": {
    "hash": "916dbcbb3f70747c44a77c7bcd40155683ae19c65e1c03b4aa3499c5328201f1"
   }
  }
 },
 "nbformat": 4,
 "nbformat_minor": 2
}
