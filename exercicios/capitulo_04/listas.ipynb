{
 "cells": [
  {
   "attachments": {},
   "cell_type": "markdown",
   "metadata": {},
   "source": [
    "- Crie um objeto iterável com a função range\n"
   ]
  },
  {
   "cell_type": "code",
   "execution_count": 1,
   "metadata": {},
   "outputs": [
    {
     "data": {
      "text/plain": [
       "range(0, 10)"
      ]
     },
     "execution_count": 1,
     "metadata": {},
     "output_type": "execute_result"
    }
   ],
   "source": [
    "# Rage é um função que gera objetos iteráveis\n",
    "# essa função recebe como argumento obrigarório um número de fim de uma seguência numérica\n",
    "\n",
    "range(10)"
   ]
  },
  {
   "cell_type": "code",
   "execution_count": 2,
   "metadata": {},
   "outputs": [
    {
     "data": {
      "text/plain": [
       "range(25, 30)"
      ]
     },
     "execution_count": 2,
     "metadata": {},
     "output_type": "execute_result"
    }
   ],
   "source": [
    "# É possível determinar o número inicial e final dessa sequência numérica\n",
    "\n",
    "range(25, 30)"
   ]
  },
  {
   "cell_type": "code",
   "execution_count": 3,
   "metadata": {},
   "outputs": [
    {
     "data": {
      "text/plain": [
       "range(100, 150, 10)"
      ]
     },
     "execution_count": 3,
     "metadata": {},
     "output_type": "execute_result"
    }
   ],
   "source": [
    "# Também é possível informar o passo\n",
    "\n",
    "range(100, 150, 10)"
   ]
  },
  {
   "cell_type": "code",
   "execution_count": 4,
   "metadata": {},
   "outputs": [
    {
     "data": {
      "text/plain": [
       "[0, 1, 2, 3, 4, 5, 6, 7, 8, 9, 10, 11, 12, 13, 14]"
      ]
     },
     "execution_count": 4,
     "metadata": {},
     "output_type": "execute_result"
    }
   ],
   "source": [
    "# range gera um objato iterável, ou seja, para visualizar todos os elementos vamos usar o método list\n",
    "# O número final do range nunca aparece no objeto, isso acontece pois é um intervalo do tipo aberto\n",
    "\n",
    "list(range(15))"
   ]
  },
  {
   "attachments": {},
   "cell_type": "markdown",
   "metadata": {},
   "source": [
    "- Converta essa objeto para uma lista\n"
   ]
  },
  {
   "cell_type": "code",
   "execution_count": 6,
   "metadata": {},
   "outputs": [
    {
     "data": {
      "text/plain": [
       "list"
      ]
     },
     "execution_count": 6,
     "metadata": {},
     "output_type": "execute_result"
    }
   ],
   "source": [
    "lista = list(range(15))\n",
    "\n",
    "type(lista)"
   ]
  },
  {
   "attachments": {},
   "cell_type": "markdown",
   "metadata": {},
   "source": [
    "- Imprima na tela 3 elementos dessa lista\n"
   ]
  },
  {
   "cell_type": "code",
   "execution_count": 10,
   "metadata": {},
   "outputs": [
    {
     "data": {
      "text/plain": [
       "[2, 3, 4, 5, 6, 7, 8, 9]"
      ]
     },
     "execution_count": 10,
     "metadata": {},
     "output_type": "execute_result"
    }
   ],
   "source": [
    "# Assim como nas strings, é possível localizar apenas um trecho da lista, chamamos isso de slice\n",
    "# Vamos selecionar os números entre o segundo e o décimo elemento de uma lista\n",
    "\n",
    "lista[2: 10]"
   ]
  },
  {
   "cell_type": "code",
   "execution_count": 11,
   "metadata": {},
   "outputs": [
    {
     "data": {
      "text/plain": [
       "[2, 3, 4, 5, 6, 7, 8, 9, 10, 11, 12, 13, 14]"
      ]
     },
     "execution_count": 11,
     "metadata": {},
     "output_type": "execute_result"
    }
   ],
   "source": [
    "# É possível fazer o slice sem saber o número final da lista, basta deixar o argumento em branco\n",
    "\n",
    "lista[2:]"
   ]
  },
  {
   "cell_type": "code",
   "execution_count": 12,
   "metadata": {},
   "outputs": [
    {
     "data": {
      "text/plain": [
       "[2, 3, 4, 5, 6, 7, 8, 9, 10, 11, 12, 13]"
      ]
     },
     "execution_count": 12,
     "metadata": {},
     "output_type": "execute_result"
    }
   ],
   "source": [
    "# E caso deseje que o slice seja até o penúltimo número, inserimos o argumento -1\n",
    "\n",
    "lista[2: -1]"
   ]
  },
  {
   "cell_type": "code",
   "execution_count": 14,
   "metadata": {},
   "outputs": [
    {
     "data": {
      "text/plain": [
       "0"
      ]
     },
     "execution_count": 14,
     "metadata": {},
     "output_type": "execute_result"
    }
   ],
   "source": [
    "# Também é possível localizar apenas 1 elemento da lista, para isso informamos o elemento entre []\n",
    "# Python é uma linguagem de base zero\n",
    "\n",
    "lista[0]"
   ]
  },
  {
   "attachments": {},
   "cell_type": "markdown",
   "metadata": {},
   "source": [
    "- Insira um item no final da lista\n"
   ]
  },
  {
   "cell_type": "code",
   "execution_count": 19,
   "metadata": {},
   "outputs": [
    {
     "name": "stdout",
     "output_type": "stream",
     "text": [
      "[0, 1, 2, 3, 4, 5, 6, 7, 8, 9, 10, 11, 12, 13, 14, 60, 60, 60, 60, 60]\n"
     ]
    }
   ],
   "source": [
    "# Para inserir um elemento na lista, existe a função append que insere o ítem no final da lista\n",
    "\n",
    "lista.append(60)\n",
    "\n",
    "print(lista)"
   ]
  },
  {
   "attachments": {},
   "cell_type": "markdown",
   "metadata": {},
   "source": [
    "- Substitua o valor do item de índice 0\n"
   ]
  },
  {
   "cell_type": "code",
   "execution_count": 20,
   "metadata": {},
   "outputs": [
    {
     "name": "stdout",
     "output_type": "stream",
     "text": [
      "[0, 1, 2, 'sol', 4, 5, 6, 7, 8, 9, 10, 11, 12, 13, 14, 60, 60, 60, 60, 60]\n"
     ]
    }
   ],
   "source": [
    "# Para substituir um elemento já existente, faça uma nova atribuição usando o seu índice\n",
    "\n",
    "lista[3] = 'sol'\n",
    "print(lista)"
   ]
  },
  {
   "attachments": {},
   "cell_type": "markdown",
   "metadata": {},
   "source": [
    "- Remova um dos itens da lista\n"
   ]
  },
  {
   "cell_type": "code",
   "execution_count": 21,
   "metadata": {},
   "outputs": [
    {
     "name": "stdout",
     "output_type": "stream",
     "text": [
      "[0, 1, 'sol', 4, 5, 6, 7, 8, 9, 10, 11, 12, 13, 14, 60, 60, 60, 60, 60]\n"
     ]
    }
   ],
   "source": [
    "# Para remover o ítem da lista, temos dois caminhos mais usados. O primeiro é remove , que vamos passar exatamente qual é o valor a ser eliminado\n",
    "\n",
    "lista.remove(2)\n",
    "print(lista)"
   ]
  },
  {
   "cell_type": "code",
   "execution_count": 22,
   "metadata": {},
   "outputs": [
    {
     "data": {
      "text/plain": [
       "60"
      ]
     },
     "execution_count": 22,
     "metadata": {},
     "output_type": "execute_result"
    }
   ],
   "source": [
    "# Além disso existe a função pop que remove o último elemento da lista.\n",
    "\n",
    "lista.pop()"
   ]
  },
  {
   "cell_type": "code",
   "execution_count": 23,
   "metadata": {},
   "outputs": [
    {
     "name": "stdout",
     "output_type": "stream",
     "text": [
      "[0, 1, 'sol', 4, 5, 6, 7, 8, 9, 10, 11, 12, 13, 14, 60, 60, 60, 60]\n"
     ]
    }
   ],
   "source": [
    "print(lista)"
   ]
  },
  {
   "cell_type": "code",
   "execution_count": 24,
   "metadata": {},
   "outputs": [
    {
     "data": {
      "text/plain": [
       "18"
      ]
     },
     "execution_count": 24,
     "metadata": {},
     "output_type": "execute_result"
    }
   ],
   "source": [
    "# Para descobrir qual é o comprimento dessa lista, usamos a função len\n",
    "\n",
    "len(lista)"
   ]
  },
  {
   "attachments": {},
   "cell_type": "markdown",
   "metadata": {},
   "source": [
    "- Copie a lista para outra variável"
   ]
  },
  {
   "cell_type": "code",
   "execution_count": 25,
   "metadata": {},
   "outputs": [],
   "source": [
    "lista_copia = lista"
   ]
  },
  {
   "cell_type": "code",
   "execution_count": 26,
   "metadata": {},
   "outputs": [],
   "source": [
    "lista.append('novo')"
   ]
  },
  {
   "cell_type": "code",
   "execution_count": 27,
   "metadata": {},
   "outputs": [
    {
     "name": "stdout",
     "output_type": "stream",
     "text": [
      "[0, 1, 'sol', 4, 5, 6, 7, 8, 9, 10, 11, 12, 13, 14, 60, 60, 60, 60, 'novo']\n"
     ]
    }
   ],
   "source": [
    "# É importante saber que criar uma atribuição direta, vai fazer com que ambas as listas estejam armazenadas no mesmo local na memória do computador\n",
    "# Quando modificamos a variável lista, lista_copia também sofreu alteração\n",
    "\n",
    "print(lista_copia)"
   ]
  },
  {
   "cell_type": "code",
   "execution_count": 29,
   "metadata": {},
   "outputs": [],
   "source": [
    "# Para que isso não aconteça, deveríamos usar a função copy\n",
    "\n",
    "lista_copia = lista.copy()\n",
    "\n",
    "lista.append('mar')"
   ]
  },
  {
   "cell_type": "code",
   "execution_count": 30,
   "metadata": {},
   "outputs": [
    {
     "name": "stdout",
     "output_type": "stream",
     "text": [
      "[0, 1, 'sol', 4, 5, 6, 7, 8, 9, 10, 11, 12, 13, 14, 60, 60, 60, 60, 'novo']\n",
      "[0, 1, 'sol', 4, 5, 6, 7, 8, 9, 10, 11, 12, 13, 14, 60, 60, 60, 60, 'novo', 'mar']\n"
     ]
    }
   ],
   "source": [
    "# Agora veja como ficaram ambas as listas\n",
    "\n",
    "print(lista_copia)\n",
    "print(lista)\n",
    "\n",
    "# Perceba que usando a função copy ainda que modifiquemos a lista original, a lista_copia não será alterada"
   ]
  }
 ],
 "metadata": {
  "kernelspec": {
   "display_name": "Python 3",
   "language": "python",
   "name": "python3"
  },
  "language_info": {
   "codemirror_mode": {
    "name": "ipython",
    "version": 3
   },
   "file_extension": ".py",
   "mimetype": "text/x-python",
   "name": "python",
   "nbconvert_exporter": "python",
   "pygments_lexer": "ipython3",
   "version": "3.12.0"
  },
  "orig_nbformat": 4,
  "vscode": {
   "interpreter": {
    "hash": "916dbcbb3f70747c44a77c7bcd40155683ae19c65e1c03b4aa3499c5328201f1"
   }
  }
 },
 "nbformat": 4,
 "nbformat_minor": 2
}
