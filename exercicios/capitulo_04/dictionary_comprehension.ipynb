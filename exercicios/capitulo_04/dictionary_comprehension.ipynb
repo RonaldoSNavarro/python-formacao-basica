{
 "cells": [
  {
   "attachments": {},
   "cell_type": "markdown",
   "metadata": {},
   "source": [
    "- Crie uma lista\n"
   ]
  },
  {
   "cell_type": "code",
   "execution_count": 1,
   "metadata": {},
   "outputs": [],
   "source": [
    "# Podemos criar dicionários a partir de outras estruturas de dados usando o recurso dictionary_comprehencion\n",
    "# Esse recurso é muito interessante para deixar o código mais limpo e legível na hora de criar um dicionário a partir de outro objeto\n",
    "\n",
    "# Lista criada para ser usada nos próximos exemplos\n",
    "lista = ['floresta', 'riacho', 'cachoeira']"
   ]
  },
  {
   "attachments": {},
   "cell_type": "markdown",
   "metadata": {},
   "source": [
    "- Usando o recurso dictionary comprehension, crie um dicionário cuja a chave é o comprimento do item e o valor, o próprio item da lista.\n"
   ]
  },
  {
   "cell_type": "code",
   "execution_count": 2,
   "metadata": {},
   "outputs": [],
   "source": [
    "# Vamos criar um dicionário cujo as chaves são o comprimento de cada item da lista acrescida pela primeira letra\n",
    "# Usamos stringformat para criar a chave que vai ser o comprimento do item que vamos descobrir com a função len - e a primeira letra do item\n",
    "# Os dois pontos : fazem parte da sintaxe do dicionário e como valor vamos usar o próprio ítem que será retornado com um for loop de item in lista\n",
    "\n",
    "dicionario = {f'{len(item)}-{item[0]}': item for item in lista}"
   ]
  },
  {
   "cell_type": "code",
   "execution_count": 3,
   "metadata": {},
   "outputs": [
    {
     "data": {
      "text/plain": [
       "{'8-f': 'floresta', '6-r': 'riacho', '9-c': 'cachoeira'}"
      ]
     },
     "execution_count": 3,
     "metadata": {},
     "output_type": "execute_result"
    }
   ],
   "source": [
    "# Imprimindo o dicionário\n",
    "dicionario"
   ]
  },
  {
   "attachments": {},
   "cell_type": "markdown",
   "metadata": {},
   "source": [
    "- Crie uma lista de tuplas\n"
   ]
  },
  {
   "cell_type": "code",
   "execution_count": 8,
   "metadata": {},
   "outputs": [],
   "source": [
    "# É possível criar dicionários a paritir de tuplas, mas antes vamos mostrar que é possível descompactar uma tupla e atribuir ma variável a cada ítem dela\n",
    "\n",
    "x, y = ('céu', 'cinza')"
   ]
  },
  {
   "cell_type": "code",
   "execution_count": 9,
   "metadata": {},
   "outputs": [
    {
     "name": "stdout",
     "output_type": "stream",
     "text": [
      "céu\n"
     ]
    }
   ],
   "source": [
    "print(x)"
   ]
  },
  {
   "cell_type": "code",
   "execution_count": 11,
   "metadata": {},
   "outputs": [
    {
     "name": "stdout",
     "output_type": "stream",
     "text": [
      "ceu ---- cinza\n"
     ]
    }
   ],
   "source": [
    "# Com isso entendemos que é possível atribuir uma variável temporária para cada item da tupla durante um for loop\n",
    "\n",
    "tupla = [('ceu', 'cinza')]\n",
    "\n",
    "for a, b in tupla:\n",
    "    print(f'{a} ---- {b}')"
   ]
  },
  {
   "cell_type": "code",
   "execution_count": 12,
   "metadata": {},
   "outputs": [],
   "source": [
    "# Criando uma lista de tupla maior para ser usada como exemplo\n",
    "\n",
    "lista_tuplas = [('céu', 'cinza'), ('gato', 'laranja'), ('mar', 'azul')]"
   ]
  },
  {
   "attachments": {},
   "cell_type": "markdown",
   "metadata": {},
   "source": [
    "- Usando o recurso dictionary comprehension, crie um dicionário cuja a chave é o primeiro item da tupla e o valor, o segundo\n"
   ]
  },
  {
   "cell_type": "code",
   "execution_count": 13,
   "metadata": {},
   "outputs": [],
   "source": [
    "# Criamos o dicionario_tuplas e dentro dele vamos ter como chave e valor os itens de cada tupla\n",
    "\n",
    "dicionario_tuplas = {chave: valor for (chave, valor) in lista_tuplas}"
   ]
  },
  {
   "attachments": {},
   "cell_type": "markdown",
   "metadata": {},
   "source": [
    "- Crie um dicionário\n"
   ]
  },
  {
   "cell_type": "code",
   "execution_count": 15,
   "metadata": {},
   "outputs": [
    {
     "data": {
      "text/plain": [
       "{'céu': 'cinza', 'gato': 'laranja', 'mar': 'azul'}"
      ]
     },
     "execution_count": 15,
     "metadata": {},
     "output_type": "execute_result"
    }
   ],
   "source": [
    "dicionario_tuplas\n",
    "\n",
    "# A primeira tupla ('céu', 'cinza') se transformou em céu como chave e cinza como valor, e assim sucessivamente"
   ]
  },
  {
   "attachments": {},
   "cell_type": "markdown",
   "metadata": {},
   "source": [
    "- Usando o recurso dictionary comprehension, crie um novo dicionário cuja a chave é uma maniputação do valor\n"
   ]
  },
  {
   "cell_type": "code",
   "execution_count": 16,
   "metadata": {},
   "outputs": [
    {
     "name": "stdout",
     "output_type": "stream",
     "text": [
      "{'céu': 'cinzacinza', 'gato': 'laranjalaranja', 'mar': 'azulazul'}\n"
     ]
    }
   ],
   "source": [
    "# Também é possível criar um dicionário a partir de um já existente\n",
    "# Vamos usar o dicionário que acabamos de criar como base e criar um dicionário modificado que vai receber a mesma chave e o valor multiplicado duas vezes\n",
    "# E para que isso aconteça criamos um for loop (chave, valor) in dicionário_tuplas.items()\n",
    "# A função items() retorna um objeto iterável com par (chave, valor) do dicionário\n",
    "\n",
    "dicionario_modificado = {chave: (valor*2) for (chave, valor) in dicionario_tuplas.items()}\n",
    "print(dicionario_modificado)"
   ]
  },
  {
   "attachments": {},
   "cell_type": "markdown",
   "metadata": {},
   "source": [
    "- Usando o recurso dictionary comprehension, crie um dicionário só com chaves com commprimento menor ou igual a 3\n"
   ]
  },
  {
   "cell_type": "code",
   "execution_count": 17,
   "metadata": {},
   "outputs": [],
   "source": [
    "# Usando dicionary_comprehencion para criar um novo dicionário com filtro\n",
    "# Com o dicionário filtrado vamos filtrar apenas as chaves que tenham o comprimento <= 3\n",
    "\n",
    "dicionario_filtrado = {chave: valor for (chave, valor) in dicionario_modificado.items() if len(chave) <= 3}"
   ]
  },
  {
   "cell_type": "code",
   "execution_count": 19,
   "metadata": {},
   "outputs": [
    {
     "data": {
      "text/plain": [
       "{'céu': 'cinzacinza', 'mar': 'azulazul'}"
      ]
     },
     "execution_count": 19,
     "metadata": {},
     "output_type": "execute_result"
    }
   ],
   "source": [
    "dicionario_filtrado\n",
    "\n",
    "# Ambas as chaves cumprem a condição passada"
   ]
  }
 ],
 "metadata": {
  "kernelspec": {
   "display_name": "Python 3",
   "language": "python",
   "name": "python3"
  },
  "language_info": {
   "codemirror_mode": {
    "name": "ipython",
    "version": 3
   },
   "file_extension": ".py",
   "mimetype": "text/x-python",
   "name": "python",
   "nbconvert_exporter": "python",
   "pygments_lexer": "ipython3",
   "version": "3.12.0"
  },
  "orig_nbformat": 4,
  "vscode": {
   "interpreter": {
    "hash": "916dbcbb3f70747c44a77c7bcd40155683ae19c65e1c03b4aa3499c5328201f1"
   }
  }
 },
 "nbformat": 4,
 "nbformat_minor": 2
}
