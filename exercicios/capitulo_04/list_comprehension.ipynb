{
 "cells": [
  {
   "attachments": {},
   "cell_type": "markdown",
   "metadata": {},
   "source": [
    "- Crie uma lista com tipos de dados numérico\n"
   ]
  },
  {
   "cell_type": "code",
   "execution_count": 1,
   "metadata": {},
   "outputs": [],
   "source": [
    "# Python tem recursos muito interessantes para deixar o código mais limpo e legível.\n",
    "# Um desses recursos é o list_comprehencion, que é uma forma elegante de criar listas a partir de uma lista existente\n",
    "\n",
    "lista = [2, 4, 6, 7]"
   ]
  },
  {
   "attachments": {},
   "cell_type": "markdown",
   "metadata": {},
   "source": [
    "- Usando list comprehension, multiplique cada item por 2 e armazene-os em uma nova lista\n"
   ]
  },
  {
   "cell_type": "code",
   "execution_count": 2,
   "metadata": {},
   "outputs": [],
   "source": [
    "lista_duplicada = [2 * item for item in lista]"
   ]
  },
  {
   "cell_type": "code",
   "execution_count": 3,
   "metadata": {},
   "outputs": [
    {
     "name": "stdout",
     "output_type": "stream",
     "text": [
      "[4, 8, 12, 14]\n"
     ]
    }
   ],
   "source": [
    "print(lista_duplicada)\n",
    "\n",
    "# Perceba que cada item da lista foi multiplicado por 2 e armazenado na lista_duplicada"
   ]
  },
  {
   "attachments": {},
   "cell_type": "markdown",
   "metadata": {},
   "source": [
    "- Usando list comprehension, crie uma lista apenas com os itens divisíveis por 20\n"
   ]
  },
  {
   "cell_type": "code",
   "execution_count": 4,
   "metadata": {},
   "outputs": [],
   "source": [
    "lista_100 = list(range(100))"
   ]
  },
  {
   "cell_type": "code",
   "execution_count": 5,
   "metadata": {},
   "outputs": [],
   "source": [
    "divisiveis_por_20 = [item for item in lista_100 if item % 2 == 0]"
   ]
  },
  {
   "cell_type": "code",
   "execution_count": 6,
   "metadata": {},
   "outputs": [
    {
     "name": "stdout",
     "output_type": "stream",
     "text": [
      "[0, 2, 4, 6, 8, 10, 12, 14, 16, 18, 20, 22, 24, 26, 28, 30, 32, 34, 36, 38, 40, 42, 44, 46, 48, 50, 52, 54, 56, 58, 60, 62, 64, 66, 68, 70, 72, 74, 76, 78, 80, 82, 84, 86, 88, 90, 92, 94, 96, 98]\n"
     ]
    }
   ],
   "source": [
    "print(divisiveis_por_20)"
   ]
  },
  {
   "attachments": {},
   "cell_type": "markdown",
   "metadata": {},
   "source": [
    "- Crie uma string\n"
   ]
  },
  {
   "cell_type": "code",
   "execution_count": 7,
   "metadata": {},
   "outputs": [],
   "source": [
    "# Esse recurso também funciona muito bem com strings\n",
    "# Vamos usar uma nova função para mara manipulação de strings chamada split. Ela cria uma lista de ítens a partir do separador informado como argumento da função\n",
    "\n",
    "texto = 'O arco-íris é colorido, o Céu é azul, a Terra do meu quintal é marrom'"
   ]
  },
  {
   "cell_type": "code",
   "execution_count": 8,
   "metadata": {},
   "outputs": [
    {
     "data": {
      "text/plain": [
       "['O',\n",
       " 'arco-íris',\n",
       " 'é',\n",
       " 'colorido,',\n",
       " 'o',\n",
       " 'Céu',\n",
       " 'é',\n",
       " 'azul,',\n",
       " 'a',\n",
       " 'Terra',\n",
       " 'do',\n",
       " 'meu',\n",
       " 'quintal',\n",
       " 'é',\n",
       " 'marrom']"
      ]
     },
     "execution_count": 8,
     "metadata": {},
     "output_type": "execute_result"
    }
   ],
   "source": [
    "# Se não informarmos o separador como argumento da função split, ela usará os espaços em branco como separador\n",
    "\n",
    "texto.split()"
   ]
  },
  {
   "cell_type": "code",
   "execution_count": 9,
   "metadata": {},
   "outputs": [
    {
     "data": {
      "text/plain": [
       "['O arco-íris é colorido', ' o Céu é azul', ' a Terra do meu quintal é marrom']"
      ]
     },
     "execution_count": 9,
     "metadata": {},
     "output_type": "execute_result"
    }
   ],
   "source": [
    "# Passando a virgula como separador\n",
    "\n",
    "texto.split(',')"
   ]
  },
  {
   "attachments": {},
   "cell_type": "markdown",
   "metadata": {},
   "source": [
    "- Crie uma função que substitua as vírgulas da string por uma 'string vazia' e transforme o case das letras para minúscula\n"
   ]
  },
  {
   "cell_type": "code",
   "execution_count": 19,
   "metadata": {},
   "outputs": [],
   "source": [
    "# É possível aplicar funções dentro do list_comprehencion\n",
    "# Criamos a função chamada limpatexto que recebe um argumento, essa função irá normalizar um pouco o texto\n",
    "# Vamos substituir a virgula por um espaço em branco e vamos converter as letras maiúsculas em minúsculas\n",
    "# A Funcção replace recebe como primeiro argumento os itens que deverão ser substituidos e como segundo argumento o novo item a ser usado no lugar do primeiro\n",
    "# A função lower converte todas as letras em minúsculas\n",
    "\n",
    "def limpatexto(palavra):\n",
    "    return palavra.replace(',', '').lower()"
   ]
  },
  {
   "attachments": {},
   "cell_type": "markdown",
   "metadata": {},
   "source": [
    "- Usando list comprehension, crie uma lista com as palavras normalizadas a partir da função do item acima\n"
   ]
  },
  {
   "cell_type": "code",
   "execution_count": 21,
   "metadata": {},
   "outputs": [],
   "source": [
    "palavras_texto = [limpatexto(palavra) for palavra in texto.split()]"
   ]
  },
  {
   "cell_type": "code",
   "execution_count": 22,
   "metadata": {},
   "outputs": [
    {
     "name": "stdout",
     "output_type": "stream",
     "text": [
      "['o', 'arco-íris', 'é', 'colorido', 'o', 'céu', 'é', 'azul', 'a', 'terra', 'do', 'meu', 'quintal', 'é', 'marrom']\n"
     ]
    }
   ],
   "source": [
    "print(palavras_texto)"
   ]
  }
 ],
 "metadata": {
  "kernelspec": {
   "display_name": "Python 3",
   "language": "python",
   "name": "python3"
  },
  "language_info": {
   "codemirror_mode": {
    "name": "ipython",
    "version": 3
   },
   "file_extension": ".py",
   "mimetype": "text/x-python",
   "name": "python",
   "nbconvert_exporter": "python",
   "pygments_lexer": "ipython3",
   "version": "3.12.0"
  },
  "orig_nbformat": 4,
  "vscode": {
   "interpreter": {
    "hash": "916dbcbb3f70747c44a77c7bcd40155683ae19c65e1c03b4aa3499c5328201f1"
   }
  }
 },
 "nbformat": 4,
 "nbformat_minor": 2
}
