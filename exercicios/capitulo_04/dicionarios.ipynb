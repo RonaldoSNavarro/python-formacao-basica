{
 "cells": [
  {
   "attachments": {},
   "cell_type": "markdown",
   "metadata": {},
   "source": [
    "- Crie um dicionário\n"
   ]
  },
  {
   "cell_type": "code",
   "execution_count": 13,
   "metadata": {},
   "outputs": [
    {
     "data": {
      "text/plain": [
       "dict"
      ]
     },
     "execution_count": 13,
     "metadata": {},
     "output_type": "execute_result"
    }
   ],
   "source": [
    "# Diferente das demais estruturas, você vai atribuir uma chave correspondente a cada valor\n",
    "\n",
    "material_escritorio = {\n",
    "    'escreve': 'lápis', \n",
    "    'apaga': 'borracha', \n",
    "    'armazena': 'caderno'\n",
    "    }\n",
    "\n",
    "type(material_escritorio)"
   ]
  },
  {
   "attachments": {},
   "cell_type": "markdown",
   "metadata": {},
   "source": [
    "- Faza uma lista com as chaves do dicionário criado\n"
   ]
  },
  {
   "cell_type": "code",
   "execution_count": 20,
   "metadata": {},
   "outputs": [
    {
     "data": {
      "text/plain": [
       "['escreve', 'apaga', 'armazena']"
      ]
     },
     "execution_count": 20,
     "metadata": {},
     "output_type": "execute_result"
    }
   ],
   "source": [
    "# Para converter as chaves em uma lista, basta usar a função list e dentro utilizar o argumento keys\n",
    "\n",
    "list(material_escritorio.keys())"
   ]
  },
  {
   "attachments": {},
   "cell_type": "markdown",
   "metadata": {},
   "source": [
    "- Faça um objeto iterável com os valores do dicionário criado\n"
   ]
  },
  {
   "cell_type": "code",
   "execution_count": 18,
   "metadata": {},
   "outputs": [
    {
     "data": {
      "text/plain": [
       "dict_keys(['escreve', 'apaga', 'armazena'])"
      ]
     },
     "execution_count": 18,
     "metadata": {},
     "output_type": "execute_result"
    }
   ],
   "source": [
    "# Podemos obter um objeto iterável com todas as chaves do dicionário usando a função keys\n",
    "\n",
    "material_escritorio.keys()"
   ]
  },
  {
   "attachments": {},
   "cell_type": "markdown",
   "metadata": {},
   "source": [
    "- Localize o valor correspondente a uma chave do dicionário\n"
   ]
  },
  {
   "cell_type": "code",
   "execution_count": 22,
   "metadata": {},
   "outputs": [
    {
     "data": {
      "text/plain": [
       "dict_values(['lápis', 'borracha', 'caderno'])"
      ]
     },
     "execution_count": 22,
     "metadata": {},
     "output_type": "execute_result"
    }
   ],
   "source": [
    "# É possível fazer a mesma coisa para recuperar todos os valores do dicionário usando a função values\n",
    "\n",
    "material_escritorio.values()\n",
    "\n",
    "# Essas funções podem ser úteis nos momentos em que for necessário iterar sobre os elementos de um dicionário"
   ]
  },
  {
   "cell_type": "code",
   "execution_count": 24,
   "metadata": {},
   "outputs": [
    {
     "data": {
      "text/plain": [
       "'borracha'"
      ]
     },
     "execution_count": 24,
     "metadata": {},
     "output_type": "execute_result"
    }
   ],
   "source": [
    "# Podemos localizar um valor específico utilizando sua chave\n",
    "\n",
    "material_escritorio['apaga']"
   ]
  },
  {
   "attachments": {},
   "cell_type": "markdown",
   "metadata": {},
   "source": [
    "- Insira um novo par de chave-valor no dicionário\n"
   ]
  },
  {
   "cell_type": "code",
   "execution_count": 25,
   "metadata": {},
   "outputs": [],
   "source": [
    "# Usando a mesma estrutura podemos substituir o valor da chave \"apaga\" e e adquirir o valor \"corretivo\"\n",
    "\n",
    "material_escritorio['apaga'] = 'corretivo'"
   ]
  },
  {
   "cell_type": "code",
   "execution_count": 26,
   "metadata": {},
   "outputs": [
    {
     "data": {
      "text/plain": [
       "'corretivo'"
      ]
     },
     "execution_count": 26,
     "metadata": {},
     "output_type": "execute_result"
    }
   ],
   "source": [
    "material_escritorio['apaga']"
   ]
  },
  {
   "attachments": {},
   "cell_type": "markdown",
   "metadata": {},
   "source": [
    "- Adicione um novo par de chave-valor no dicionário de listas\n"
   ]
  },
  {
   "cell_type": "code",
   "execution_count": 27,
   "metadata": {},
   "outputs": [],
   "source": [
    "# Para adicionar uma nova chave ao dicionário, usamos a mesma sintaxe sendo que informaremos uma chave que não existe \n",
    "\n",
    "material_escritorio['prende'] = 'clip'"
   ]
  },
  {
   "cell_type": "code",
   "execution_count": 28,
   "metadata": {},
   "outputs": [
    {
     "data": {
      "text/plain": [
       "{'escreve': 'lápis',\n",
       " 'apaga': 'corretivo',\n",
       " 'armazena': 'caderno',\n",
       " 'prende': 'clip'}"
      ]
     },
     "execution_count": 28,
     "metadata": {},
     "output_type": "execute_result"
    }
   ],
   "source": [
    "material_escritorio"
   ]
  },
  {
   "attachments": {},
   "cell_type": "markdown",
   "metadata": {},
   "source": [
    "- Usando o módulo collections, crie um dicionário cujos o valor padrão serão listas\n"
   ]
  },
  {
   "cell_type": "code",
   "execution_count": 30,
   "metadata": {},
   "outputs": [],
   "source": [
    "# É possível combinar estruturas de dados diferentes, ou seja, é possível criar uma chave que receba uma lista\n",
    "\n",
    "material_escritorio['organiza'] = ['agenda', 'kanban']"
   ]
  },
  {
   "cell_type": "code",
   "execution_count": 31,
   "metadata": {},
   "outputs": [],
   "source": [
    "# Caso queiramos inserir um novo elemento a essa lista, vamos usar a função append\n",
    "\n",
    "material_escritorio['organiza'].append('pasta')"
   ]
  },
  {
   "cell_type": "code",
   "execution_count": 32,
   "metadata": {},
   "outputs": [
    {
     "data": {
      "text/plain": [
       "{'escreve': 'lápis',\n",
       " 'apaga': 'corretivo',\n",
       " 'armazena': 'caderno',\n",
       " 'prende': 'clip',\n",
       " 'organiza': ['agenda', 'kanban', 'pasta']}"
      ]
     },
     "execution_count": 32,
     "metadata": {},
     "output_type": "execute_result"
    }
   ],
   "source": [
    "material_escritorio"
   ]
  },
  {
   "cell_type": "code",
   "execution_count": 33,
   "metadata": {},
   "outputs": [],
   "source": [
    "# Existe um módulo nativo do Python que nos permite criar dicionários informando o valor padrão das chaves. É a biblioteca collection\n",
    "\n",
    "# Vamos importar apenas um método dessa biblioteca\n",
    "from collections import defaultdict"
   ]
  },
  {
   "cell_type": "code",
   "execution_count": 34,
   "metadata": {},
   "outputs": [],
   "source": [
    "# Declarando um dicionário vazio chamado natureza\n",
    "# Para isso usamos o método defautdict e passamos como argumento passamos list\n",
    "natureza = defaultdict(list)"
   ]
  },
  {
   "cell_type": "code",
   "execution_count": 35,
   "metadata": {},
   "outputs": [
    {
     "data": {
      "text/plain": [
       "defaultdict(list, {})"
      ]
     },
     "execution_count": 35,
     "metadata": {},
     "output_type": "execute_result"
    }
   ],
   "source": [
    "# Observe que temos um tipo de dado defautdict que recebe listas como padrão e que está vazio\n",
    "natureza"
   ]
  },
  {
   "cell_type": "code",
   "execution_count": 36,
   "metadata": {},
   "outputs": [],
   "source": [
    "# Como o tipo de dicionário já pressupõe que receberá listas como padrão, então podemos usar a função extent para inserir vários elementos em uma lista ao mesmo tempo\n",
    "\n",
    "natureza['fauna'].extend(['arara', 'capivara', 'jacaré', 'macaco'])"
   ]
  },
  {
   "cell_type": "code",
   "execution_count": 37,
   "metadata": {},
   "outputs": [
    {
     "data": {
      "text/plain": [
       "defaultdict(list, {'fauna': ['arara', 'capivara', 'jacaré', 'macaco']})"
      ]
     },
     "execution_count": 37,
     "metadata": {},
     "output_type": "execute_result"
    }
   ],
   "source": [
    "# Temos a chave fauna que contém uma lista de animais\n",
    "natureza"
   ]
  },
  {
   "attachments": {},
   "cell_type": "markdown",
   "metadata": {},
   "source": [
    "- Localize um valor da lista correspondente a uma chave do dicionário de listas"
   ]
  },
  {
   "cell_type": "code",
   "execution_count": 38,
   "metadata": {},
   "outputs": [
    {
     "data": {
      "text/plain": [
       "'jacaré'"
      ]
     },
     "execution_count": 38,
     "metadata": {},
     "output_type": "execute_result"
    }
   ],
   "source": [
    "# Para lozalizar um elemento da lista atribuída a chave fauna, usamos uma sintaxe já conhecida\n",
    "\n",
    "natureza['fauna'][2]"
   ]
  }
 ],
 "metadata": {
  "kernelspec": {
   "display_name": "Python 3",
   "language": "python",
   "name": "python3"
  },
  "language_info": {
   "codemirror_mode": {
    "name": "ipython",
    "version": 3
   },
   "file_extension": ".py",
   "mimetype": "text/x-python",
   "name": "python",
   "nbconvert_exporter": "python",
   "pygments_lexer": "ipython3",
   "version": "3.12.0"
  },
  "orig_nbformat": 4,
  "vscode": {
   "interpreter": {
    "hash": "916dbcbb3f70747c44a77c7bcd40155683ae19c65e1c03b4aa3499c5328201f1"
   }
  }
 },
 "nbformat": 4,
 "nbformat_minor": 2
}
